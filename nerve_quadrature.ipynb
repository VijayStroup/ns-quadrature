{
 "cells": [
  {
   "cell_type": "markdown",
   "metadata": {},
   "source": [
    "<h1 style=\"text-align:center;\">Nerve Quadrature Analysis</h1>\n",
    "<h3 style=\"text-align:center;margin:0;\">Vijay Stroup</h3>\n",
    "<p style=\"text-align:center;margin:0;\">University of Central Florida • November 6, 2021</p>"
   ]
  },
  {
   "cell_type": "markdown",
   "metadata": {},
   "source": [
    "# Introduction\n",
    "\n",
    "In a study conducted by John Cahn, John Mallet-Paret, and Erik van Vleck on \n",
    "[\"Traveling Wave Solutions for Systems of ODEs on a Two-Dimensional Spatial Lattice\"](http://www.jstor.org/stable/118432), \n",
    "they have deduced an function $\\psi$ to represent an electrical impuluse in the human nervious \n",
    "system. "
   ]
  },
  {
   "cell_type": "markdown",
   "metadata": {},
   "source": [
    "Consider the function $\\psi: \\mathbb{R}\\rightarrow\\mathbb{R}$\n",
    "\n",
    "$$\n",
    "\\psi(x) =\n",
    "\\frac{1}2 + \\frac{1}\\pi \\int_0^\\infty \\frac{A(s)sin(sx)}{s(A(s)^2 + c^2s^2)} ds +\n",
    "\\frac{c}\\pi \\int_0^\\infty \\frac{cos(sx)}{A(s)^2 + c^2s^2} ds\n",
    "$$\n",
    "\n",
    "$$ A(s) = 1 + 2(1 - cos(s)) $$"
   ]
  },
  {
   "cell_type": "markdown",
   "metadata": {},
   "source": [
    "$\\psi$ is the wave function representation of We can use different methods of \n",
    "integration to estimate $\\psi$ at different values of x and c.  \n",
    "\n",
    "The methods of quadrature approximation that will be used in this project will \n",
    "be the following:  \n",
    "<br/>\n",
    "Midpoint: $$\\int_a^b f(x) dx \\approx (b-a)f(\\frac{b+a}2)$$  \n",
    "<br/>\n",
    "Trapezoidal: $$\\int_a^b f(x) dx \\approx \\frac{b-a}2 (f(a)+f(b)$$  \n",
    "<br/>\n",
    "Simpson: $$\\int_a^b f(x) dx \\approx \\frac{h}3 (f(a) + 4f(a+h) + f(a+2h)), \\qquad h=\\frac{b-a}2$$  \n",
    "<br/>\n",
    "\n",
    "In genearl, we can write a quadrature formula as\n",
    "$$\\int_a^b f(x)dx \\approx \\sum_{i=1}^n w_i f(x_i)$$\n",
    "where we want to choose weights $w_i$ and nodes so that the formula is as accurate as possible."
   ]
  },
  {
   "cell_type": "markdown",
   "metadata": {},
   "source": [
    "When doing quadrature analysis, we run into the problem of not knowing what the \n",
    "exact integral will be when comparing for error. Thus, we must use specific \n",
    "algorithms that do not require a compairson of the exact answer.  \n",
    "\n",
    "For the Midpoint rule, we can use the following equation to get the error of each\n",
    "iteration:\n",
    "$$|\\int_a^b f(x) dx - M_n| \\leq \\frac{(b-a)^3}{24n^2} \\max_{x \\in [a,b]} |f''(x)|$$  \n",
    "\n",
    "<br/>\n",
    "\n",
    "For The Trapezoidal rule, we can use Richardson's Error Estimate to determine\n",
    "how accurate each iteration is. Richardson's Error Estimate is defined as:\n",
    "$$|\\int_a^b f(x) dx - T_n| \\leq \\frac{(b-a)^3}{12n^2} \\max_{x \\in [a,b]} |f''(x)|$$  \n",
    "\n",
    "<br/>\n",
    "\n",
    "For Simpson's rule, we can use the error term defined as:\n",
    "$$|\\int_a^b f(x) dx - S_n| \\leq \\frac{(b-a)^5}{180n^4} \\max_{x \\in [a,b]} |f^{(4)}(x)|$$  "
   ]
  },
  {
   "cell_type": "markdown",
   "metadata": {},
   "source": [
    "I believe that Simpson's Rule will be more accurate when estimaing what this function should be. It will also be able to be more accurate with many less nodes than required by the trapezodial rule. This is shown by calculating the number of nodes needed to achieve a certain error for both methods."
   ]
  },
  {
   "cell_type": "markdown",
   "metadata": {},
   "source": [
    "For our function $\\psi$, it is reasonable to vary c within the interval [0, 10] \n",
    "and then choose values of x that will capture a good amount of data without \n",
    "sacrificing a lot of time. This can be done by checking, on each iteration, the\n",
    "result relative to the previous iteration and cutting it off after a certain\n",
    "threshold.  \n",
    "\n",
    "Things to think about when analyzing this problem are:\n",
    "- Our limits of integration are from 0 to $\\infty$, what would be a good cut off point for\n",
    "    our upper bound?\n",
    "- What happens we set c=0 which is still in our acceptable range? It would make\n",
    "    the third term of $\\psi$ go to 0.\n",
    "- Compounding error on each iteration?"
   ]
  },
  {
   "cell_type": "markdown",
   "metadata": {},
   "source": [
    "# Analyis"
   ]
  },
  {
   "cell_type": "markdown",
   "metadata": {},
   "source": [
    "We can first start off by visualizing the second and third integrand functions.  \n",
    "We can see both of them have the trigonometric functions sin and cos so we should \n",
    "expect the plots to be bounded to 1 and have some type of damping effect with a\n",
    "maximum at x=0."
   ]
  },
  {
   "cell_type": "code",
   "execution_count": 2,
   "metadata": {},
   "outputs": [],
   "source": [
    "# import all libraries needed for this project\n",
    "import numpy as np\n",
    "import matplotlib.pyplot as plt\n",
    "import pandas as pd\n",
    "from scipy.integrate import quad, trapezoid, simpson\n",
    "from scipy.misc import derivative\n",
    "import warnings\n",
    "\n",
    "warnings.filterwarnings('ignore') # ignore warnings from scipy integrate to inf\n",
    "%matplotlib inline"
   ]
  },
  {
   "cell_type": "markdown",
   "metadata": {},
   "source": [
    "In this analysis, I1 will be refered to as the integrand in the second term in $\\psi$:\n",
    "$$\\frac{A(s)sin(sx)}{s(A(s)^2 + c^2s^2)}$$  \n",
    "\n",
    "Conversely, I2 is the integrand in the third term of $\\psi$:\n",
    "$$\\frac{cos(sx)}{A(s)^2 + c^2s^2}$$  "
   ]
  },
  {
   "cell_type": "code",
   "execution_count": 3,
   "metadata": {},
   "outputs": [],
   "source": [
    "A = lambda s: 1 + 2 * (1 - np.cos(s)) # A(s)\n",
    "I1 = lambda s, c, x: (A(s) * np.sin(s*x)) / (s * (A(s)**2 + c**2 * s**2))\n",
    "I2 = lambda s, c, x: np.cos(s*x) / (A(s)**2 + c**2 * s**2)\n",
    "\n",
    "def integral_plots(xs, c, x):\n",
    "    I1_values = [I1(i, c, x) for i in xs]\n",
    "    I2_values = [I2(i, c, x) for i in xs]\n",
    "\n",
    "    _, ax = plt.subplots(1, 2)\n",
    "\n",
    "    ax[0].plot(xs, I1_values)\n",
    "    ax[0].set_title('I1')\n",
    "    ax[0].set_xlabel('s')\n",
    "    ax[0].set_ylabel('value')\n",
    "\n",
    "    ax[1].plot(xs, I2_values)\n",
    "    ax[1].set_title('I2')\n",
    "    ax[1].set_xlabel('s')\n",
    "    ax[1].set_ylabel('value')\n",
    "\n",
    "    plt.subplots_adjust(wspace=.5)\n",
    "    plt.show()"
   ]
  },
  {
   "cell_type": "code",
   "execution_count": 10,
   "metadata": {},
   "outputs": [
    {
     "data": {
      "image/png": "[encoded data removed]",
      "text/plain": [
       "<Figure size 432x288 with 2 Axes>"
      ]
     },
     "metadata": {
      "needs_background": "light"
     },
     "output_type": "display_data"
    }
   ],
   "source": [
    "xs = np.linspace(-20, 20, 500)\n",
    "c, x = 1, 1\n",
    "integral_plots(xs, c, x)"
   ]
  },
  {
   "cell_type": "markdown",
   "metadata": {},
   "source": [
    "Here we observe I1 and I2 with x and x being set to 1. They have a maximum at s=0\n",
    "and dampen symmetrically moving away from s=0.  \n",
    "\n",
    "We can then vary these parameters to see how it affects our function."
   ]
  },
  {
   "cell_type": "code",
   "execution_count": 11,
   "metadata": {},
   "outputs": [
    {
     "data": {
      "image/png": "[encoded data removed]",
      "text/plain": [
       "<Figure size 432x288 with 2 Axes>"
      ]
     },
     "metadata": {
      "needs_background": "light"
     },
     "output_type": "display_data"
    }
   ],
   "source": [
    "xs = np.linspace(-20, 20, 500)\n",
    "c, x = 1, 5\n",
    "integral_plots(xs, c, x)"
   ]
  },
  {
   "cell_type": "markdown",
   "metadata": {},
   "source": [
    "We can easily see that increasing the value of x yeilds a higher frequency."
   ]
  },
  {
   "cell_type": "code",
   "execution_count": 12,
   "metadata": {},
   "outputs": [
    {
     "data": {
      "image/png": "[encoded data removed]",
      "text/plain": [
       "<Figure size 432x288 with 2 Axes>"
      ]
     },
     "metadata": {
      "needs_background": "light"
     },
     "output_type": "display_data"
    }
   ],
   "source": [
    "xs = np.linspace(-20, 20, 500)\n",
    "c, x = 5, 1\n",
    "integral_plots(xs, c, x)"
   ]
  },
  {
   "cell_type": "markdown",
   "metadata": {},
   "source": [
    "When we increase c while keeping x constant, the dampening effect happens more harshly."
   ]
  },
  {
   "cell_type": "markdown",
   "metadata": {},
   "source": [
    "Now that we have observed these transformations, we can view the extremas of our\n",
    "intervals."
   ]
  },
  {
   "cell_type": "code",
   "execution_count": 13,
   "metadata": {},
   "outputs": [
    {
     "data": {
      "image/png": "[encoded data removed]",
      "text/plain": [
       "<Figure size 432x288 with 2 Axes>"
      ]
     },
     "metadata": {
      "needs_background": "light"
     },
     "output_type": "display_data"
    }
   ],
   "source": [
    "xs = np.linspace(-20, 20, 500)\n",
    "c, x = 0, 10\n",
    "integral_plots(xs, c, x)"
   ]
  },
  {
   "cell_type": "markdown",
   "metadata": {},
   "source": [
    "When setting c to 0 for $\\psi$, we know the third term will equal 0 so the high\n",
    "fluctuations of I2 will not be considered. What is good to note is that for I1,\n",
    "the value has a maximum still at 0, however falls off very quickly as s increases."
   ]
  },
  {
   "cell_type": "code",
   "execution_count": 14,
   "metadata": {},
   "outputs": [
    {
     "data": {
      "image/png": "[encoded data removed]",
      "text/plain": [
       "<Figure size 432x288 with 2 Axes>"
      ]
     },
     "metadata": {
      "needs_background": "light"
     },
     "output_type": "display_data"
    }
   ],
   "source": [
    "xs = np.linspace(-20, 20, 500)\n",
    "c, x = 10, 0\n",
    "integral_plots(xs, c, x)"
   ]
  },
  {
   "cell_type": "markdown",
   "metadata": {},
   "source": [
    "In the case of x=0, I1 will always be equal to 0 due to $sin(x)$, and I2 will \n",
    "quickly go to 0 with no dampening effect."
   ]
  },
  {
   "cell_type": "markdown",
   "metadata": {},
   "source": [
    "We can now visualize $\\psi(x),\\quad x\\in[-10, 10]$ to get a better picture \n",
    "of what to expect from our approximations.  \n",
    "We will just use the basic quad method from scipy to use as visualization of $\\psi$."
   ]
  },
  {
   "cell_type": "code",
   "execution_count": 4,
   "metadata": {},
   "outputs": [],
   "source": [
    "def plot_psi(xs, c):\n",
    "    ys = []\n",
    "    for x in xs:\n",
    "        a = quad(I1, 0, np.inf, args=(c, x))\n",
    "        b = quad(I2, 0, np.inf, args=(c, x))\n",
    "        y = 1/2 + (1/np.pi * a[0]) + (c/np.pi * b[0])\n",
    "        ys.append(y)\n",
    "\n",
    "    _, ax = plt.subplots(1, 2)\n",
    "\n",
    "    ax[0].plot(xs, ys)\n",
    "    ax[0].set_title('psi')\n",
    "    ax[0].set_xlabel('x')\n",
    "    ax[0].set_ylabel('value')\n",
    "\n",
    "    ax[1].plot(xs, ys)\n",
    "    ax[1].set_title('psi zoomed in')\n",
    "    ax[1].set_xlabel('x')\n",
    "    ax[1].set_ylabel('value')\n",
    "    ax[1].set_xlim(-3, 3)\n",
    "\n",
    "    plt.subplots_adjust(wspace=.5)\n",
    "    plt.show()"
   ]
  },
  {
   "cell_type": "code",
   "execution_count": 16,
   "metadata": {},
   "outputs": [
    {
     "data": {
      "image/png": "[encoded data removed]",
      "text/plain": [
       "<Figure size 432x288 with 2 Axes>"
      ]
     },
     "metadata": {
      "needs_background": "light"
     },
     "output_type": "display_data"
    }
   ],
   "source": [
    "c = 1\n",
    "xs = np.linspace(-5, 5, 500)\n",
    "plot_psi(xs, c)"
   ]
  },
  {
   "cell_type": "code",
   "execution_count": 17,
   "metadata": {},
   "outputs": [
    {
     "data": {
      "image/png": "[encoded data removed]",
      "text/plain": [
       "<Figure size 432x288 with 2 Axes>"
      ]
     },
     "metadata": {
      "needs_background": "light"
     },
     "output_type": "display_data"
    }
   ],
   "source": [
    "c = 5\n",
    "xs = np.linspace(-10, 10, 500)\n",
    "plot_psi(xs, c)"
   ]
  },
  {
   "cell_type": "markdown",
   "metadata": {},
   "source": [
    "Here we can observe that if we increase c, the plateau is reached more dramatically.\n",
    "We should then expect that at our lower bound for $\\psi$ to be unstable.  \n",
    "\n",
    "Let us take a look at the two extremas of our interval for c."
   ]
  },
  {
   "cell_type": "code",
   "execution_count": 18,
   "metadata": {},
   "outputs": [
    {
     "data": {
      "image/png": "[encoded data removed]",
      "text/plain": [
       "<Figure size 432x288 with 2 Axes>"
      ]
     },
     "metadata": {
      "needs_background": "light"
     },
     "output_type": "display_data"
    }
   ],
   "source": [
    "c = 10\n",
    "xs = np.linspace(-5, 5, 500)\n",
    "plot_psi(xs, c)"
   ]
  },
  {
   "cell_type": "code",
   "execution_count": 19,
   "metadata": {},
   "outputs": [
    {
     "data": {
      "image/png": "[encoded data removed]",
      "text/plain": [
       "<Figure size 432x288 with 2 Axes>"
      ]
     },
     "metadata": {
      "needs_background": "light"
     },
     "output_type": "display_data"
    }
   ],
   "source": [
    "c = 0\n",
    "xs = np.linspace(-5, 5, 500)\n",
    "plot_psi(xs, c)"
   ]
  },
  {
   "cell_type": "markdown",
   "metadata": {},
   "source": [
    "As predicted, at c=0, our function becomes very unstable with high fluctuations\n",
    "throughout the whole x interval.  \n",
    "On the contrary, it is also observed that the function's plateau is reached sharply.  \n",
    "\n",
    "This leads me to believe that c and the error $\\epsilon$, will have a direct\n",
    "corrorlation."
   ]
  },
  {
   "cell_type": "markdown",
   "metadata": {},
   "source": [
    "Before we begin to approximate $\\psi(x)$ with our different methods, we have to\n",
    "determine what is a proper interval of our integrals. From our visualisation of\n",
    "$\\psi(x)$ above, we know there is a plateau. Our goal should be to find the x\n",
    "value in which the relative difference on the x+1 value is insignificant. Let us\n",
    "choose $10^{-4}$ to be the cut-off point in which we determine the current x value \n",
    "is the maximum x in that interation we will use as our bounds for the integrals.  \n",
    "We also want to choose a constant c value that will be good. If our c value is \n",
    "too low, we may run into the issue of the relative difference never reaching the \n",
    "threshold due to the high fluctuations. On the other side, if we choose a c value\n",
    "that is too large, we risk of cutting off part of the data too early. This is \n",
    "something good to observe from the above plots and to experiment with to determine\n",
    "what a good value for c should be. For this project, I have selected c to be 5\n",
    "to allow enough iterations of x while still being able to reach the threshold."
   ]
  },
  {
   "cell_type": "markdown",
   "metadata": {},
   "source": [
    "Let us now begin to analyze the different quadrature methods mentioned in the \n",
    "introduction."
   ]
  },
  {
   "cell_type": "markdown",
   "metadata": {},
   "source": [
    "First we will define the function $\\psi(x)$"
   ]
  },
  {
   "cell_type": "code",
   "execution_count": 4,
   "metadata": {},
   "outputs": [],
   "source": [
    "def psi(c, x, domain, f):\n",
    "    I1_func_values = [I1(s, c, x) for s in domain]\n",
    "    I2_func_values = [I2(s, c, x) for s in domain]\n",
    "\n",
    "    I1_approx = f(I1_func_values, domain)\n",
    "    I2_approx = f(I2_func_values, domain)\n",
    "\n",
    "    if f == trapezoid:\n",
    "        I1_errors = [np.abs((domain[-1] - domain[0])**3 / (12 * len(domain)**2) * derivative(I1, s, n=2, order=5, args=(c, x))) for s in domain]\n",
    "        I2_errors = [np.abs((domain[-1] - domain[0])**3 / (12 * len(domain)**2) * derivative(I2, s, n=2, order=5, args=(c, x))) for s in domain]\n",
    "    elif f == simpson:\n",
    "        I1_errors = [np.abs((domain[-1] - domain[0])**5 / (180 * len(domain)**4) * derivative(I1, s, n=4, order=5, args=(c, x))) for s in domain]\n",
    "        I2_errors = [np.abs((domain[-1] - domain[0])**5 / (180 * len(domain)**4) * derivative(I2, s, n=4, order=5, args=(c, x))) for s in domain]\n",
    "\n",
    "    I1_error = np.mean(np.array(I1_errors)[~np.isnan(I1_errors)])\n",
    "    I2_error = np.mean(np.array(I2_errors)[~np.isnan(I2_errors)])\n",
    "\n",
    "    return 1/2 + (1/np.pi * I1_approx) + (c/np.pi * I2_approx), I1_error, I2_error"
   ]
  },
  {
   "cell_type": "markdown",
   "metadata": {},
   "source": [
    "Next, let's define some of the constants for all the methods of our analysis."
   ]
  },
  {
   "cell_type": "code",
   "execution_count": 5,
   "metadata": {},
   "outputs": [],
   "source": [
    "xs = np.arange(1000) # [0, 1, 2, ... 999]\n",
    "threshold = 10e-4\n",
    "c = 5"
   ]
  },
  {
   "cell_type": "markdown",
   "metadata": {},
   "source": [
    "We can then create a function to return the value of $\\psi$ along the xs defined\n",
    "above dependent on the method we pass to it."
   ]
  },
  {
   "cell_type": "code",
   "execution_count": 6,
   "metadata": {},
   "outputs": [],
   "source": [
    "def solve(f):\n",
    "    x_used = []\n",
    "    approximations = []\n",
    "    relative_differences = []\n",
    "    errors = []\n",
    "\n",
    "    prev = 0\n",
    "    domain = np.arange(1, 100_000)\n",
    "    for x in xs:\n",
    "        approx, I1_error, I2_error = psi(c, x, domain, f)\n",
    "        errors.append([I1_error, I2_error])\n",
    "        rel_diff = abs(approx - prev)\n",
    "        x_used.append(x)\n",
    "        approximations.append(approx)\n",
    "        relative_differences.append(rel_diff)\n",
    "\n",
    "        if rel_diff <= threshold: break\n",
    "        prev = approx\n",
    "\n",
    "    return np.array(x_used)+1, approximations, relative_differences, errors"
   ]
  },
  {
   "cell_type": "markdown",
   "metadata": {},
   "source": [
    "### Midpoint"
   ]
  },
  {
   "cell_type": "markdown",
   "metadata": {},
   "source": [
    "We can derive the number of nodes we want to use to make sure our error is less \n",
    "than $10^{-4}$.  \n",
    "\n",
    "<br/>\n",
    "\n",
    "$$n = \\sqrt{\\frac{(b-a)^3}{24\\epsilon} f''(x)}, \\qquad \\epsilon=10^{-4}$$  \n",
    "\n",
    "The derivatives of I1 and I2 are very long and would take very long to work out\n",
    "by hand. To simplify this, we can use scipy's derivative function to get the\n",
    "$n^{th}$ derivative at a point $x_0$. Because we need the max value of $f''(x)$,\n",
    "we can just evalute both points of the interval to get the max and use that as \n",
    "our value when substituting back into getting the number of nodes. With this in\n",
    "mind, our error on each iteration will be constant, but the number of nodes may\n",
    "change."
   ]
  },
  {
   "cell_type": "code",
   "execution_count": 11,
   "metadata": {},
   "outputs": [],
   "source": [
    "def midpoint(f, x, a=0, b=100_000, n=100_000):\n",
    "    errors = [np.abs((100_000 - 0)**3 / (24 * n**2) * derivative(f, s, n=2, order=5, args=(c, x))) for s in np.arange(100_000)]\n",
    "\n",
    "    h = (b - a) / n\n",
    "    result = 0\n",
    "    for i in range(n):\n",
    "        result += f((a + h / 2) + i * h, c, x)\n",
    "    result *= h\n",
    "    return result, np.mean(errors)\n",
    "\n",
    "def solve_midpoint():\n",
    "    x_used = []\n",
    "    approximations = []\n",
    "    relative_differences = []\n",
    "    errors = []\n",
    "\n",
    "    prev = 0\n",
    "    for x in xs:\n",
    "        I1_approx, I1_error = midpoint(I1, x)\n",
    "        I2_approx, I2_error = midpoint(I2, x)\n",
    "        approx = 1/2 + (1/np.pi * I1_approx) + (c/np.pi * I2_approx)\n",
    "        rel_diff = abs(approx - prev)\n",
    "\n",
    "        print(approx, rel_diff)\n",
    "\n",
    "        x_used.append(x)\n",
    "        errors.append([I1_error, I2_error])\n",
    "        approximations.append(approx)\n",
    "        relative_differences.append(rel_diff)\n",
    "\n",
    "        if rel_diff <= threshold: break\n",
    "        prev = approx\n",
    "\n",
    "    return x_used, approximations, relative_differences, errors"
   ]
  },
  {
   "cell_type": "code",
   "execution_count": 12,
   "metadata": {},
   "outputs": [
    {
     "name": "stdout",
     "output_type": "stream",
     "text": [
      "0.7582785017565876 0.7582785017565876\n",
      "0.7300220841981384 0.02825641755844921\n",
      "0.6744423271863992 0.05557975701173923\n",
      "0.6054222297188646 0.06902009746753457\n",
      "0.521647178031338 0.08377505168752664\n",
      "0.42015941191432005 0.10148776611701793\n",
      "0.29085089156521216 0.1293085203491079\n",
      "0.258221748677816 0.032629142887396156\n",
      "0.3084035758492182 0.05018182717140218\n",
      "0.37364416811957235 0.06524059227035417\n",
      "0.4529685075668221 0.07932433944724976\n",
      "0.5492361327823184 0.09626762521549631\n",
      "0.6665884388535538 0.11735230607123537\n",
      "0.7501839417645182 0.0835955029109644\n",
      "0.7076489389922049 0.04253500277231326\n"
     ]
    }
   ],
   "source": [
    "x_used, approximations, relative_differences, errors = solve_midpoint()"
   ]
  },
  {
   "cell_type": "code",
   "execution_count": 17,
   "metadata": {},
   "outputs": [
    {
     "data": {
      "text/html": [
       "<div>\n",
       "<style scoped>\n",
       "    .dataframe tbody tr th:only-of-type {\n",
       "        vertical-align: middle;\n",
       "    }\n",
       "\n",
       "    .dataframe tbody tr th {\n",
       "        vertical-align: top;\n",
       "    }\n",
       "\n",
       "    .dataframe thead th {\n",
       "        text-align: right;\n",
       "    }\n",
       "</style>\n",
       "<table border=\"1\" class=\"dataframe\">\n",
       "  <thead>\n",
       "    <tr style=\"text-align: right;\">\n",
       "      <th></th>\n",
       "      <th>x</th>\n",
       "      <th>approximation</th>\n",
       "      <th>relative_diff</th>\n",
       "      <th>I1_error</th>\n",
       "      <th>I2_error</th>\n",
       "    </tr>\n",
       "  </thead>\n",
       "  <tbody>\n",
       "    <tr>\n",
       "      <th>0</th>\n",
       "      <td>0</td>\n",
       "      <td>0.500314</td>\n",
       "      <td>0.500314</td>\n",
       "      <td>NaN</td>\n",
       "      <td>154989.569726</td>\n",
       "    </tr>\n",
       "    <tr>\n",
       "      <th>1</th>\n",
       "      <td>1</td>\n",
       "      <td>0.499783</td>\n",
       "      <td>0.000531</td>\n",
       "      <td>NaN</td>\n",
       "      <td>157996.597506</td>\n",
       "    </tr>\n",
       "  </tbody>\n",
       "</table>\n",
       "</div>"
      ],
      "text/plain": [
       "   x  approximation  relative_diff  I1_error       I2_error\n",
       "0  0       0.500314       0.500314       NaN  154989.569726\n",
       "1  1       0.499783       0.000531       NaN  157996.597506"
      ]
     },
     "execution_count": 17,
     "metadata": {},
     "output_type": "execute_result"
    }
   ],
   "source": [
    "middf = pd.DataFrame({\n",
    "    'x': x_used,\n",
    "    'approximation': approximations,\n",
    "    'relative_diff': relative_differences,\n",
    "    'I1_error': np.array(errors)[:,0],\n",
    "    'I2_error': np.array(errors)[:,1],\n",
    "})\n",
    "middf"
   ]
  },
  {
   "cell_type": "code",
   "execution_count": 18,
   "metadata": {},
   "outputs": [
    {
     "data": {
      "image/png": "[encoded data removed]",
      "text/plain": [
       "<Figure size 432x288 with 4 Axes>"
      ]
     },
     "metadata": {
      "needs_background": "light"
     },
     "output_type": "display_data"
    }
   ],
   "source": [
    "middf.plot('x', subplots=True, sharex=False)\n",
    "plt.show()"
   ]
  },
  {
   "cell_type": "markdown",
   "metadata": {},
   "source": [
    "### Trapezoid"
   ]
  },
  {
   "cell_type": "code",
   "execution_count": 10,
   "metadata": {},
   "outputs": [],
   "source": [
    "x_used, approximations, relative_differences, errors = solve(trapezoid)"
   ]
  },
  {
   "cell_type": "code",
   "execution_count": 11,
   "metadata": {},
   "outputs": [
    {
     "data": {
      "text/html": [
       "<div>\n",
       "<style scoped>\n",
       "    .dataframe tbody tr th:only-of-type {\n",
       "        vertical-align: middle;\n",
       "    }\n",
       "\n",
       "    .dataframe tbody tr th {\n",
       "        vertical-align: top;\n",
       "    }\n",
       "\n",
       "    .dataframe thead th {\n",
       "        text-align: right;\n",
       "    }\n",
       "</style>\n",
       "<table border=\"1\" class=\"dataframe\">\n",
       "  <thead>\n",
       "    <tr style=\"text-align: right;\">\n",
       "      <th></th>\n",
       "      <th>x</th>\n",
       "      <th>approximation</th>\n",
       "      <th>relative_diff</th>\n",
       "      <th>I1_error</th>\n",
       "      <th>I2_error</th>\n",
       "    </tr>\n",
       "  </thead>\n",
       "  <tbody>\n",
       "    <tr>\n",
       "      <th>0</th>\n",
       "      <td>1</td>\n",
       "      <td>0.565827</td>\n",
       "      <td>0.565827</td>\n",
       "      <td>0.000000</td>\n",
       "      <td>0.080426</td>\n",
       "    </tr>\n",
       "    <tr>\n",
       "      <th>1</th>\n",
       "      <td>2</td>\n",
       "      <td>0.516215</td>\n",
       "      <td>0.049612</td>\n",
       "      <td>0.003696</td>\n",
       "      <td>0.082490</td>\n",
       "    </tr>\n",
       "    <tr>\n",
       "      <th>2</th>\n",
       "      <td>3</td>\n",
       "      <td>0.489756</td>\n",
       "      <td>0.026459</td>\n",
       "      <td>0.008661</td>\n",
       "      <td>0.088133</td>\n",
       "    </tr>\n",
       "    <tr>\n",
       "      <th>3</th>\n",
       "      <td>4</td>\n",
       "      <td>0.482646</td>\n",
       "      <td>0.007110</td>\n",
       "      <td>0.003935</td>\n",
       "      <td>0.098279</td>\n",
       "    </tr>\n",
       "    <tr>\n",
       "      <th>4</th>\n",
       "      <td>5</td>\n",
       "      <td>0.478722</td>\n",
       "      <td>0.003924</td>\n",
       "      <td>0.009829</td>\n",
       "      <td>0.091512</td>\n",
       "    </tr>\n",
       "    <tr>\n",
       "      <th>5</th>\n",
       "      <td>6</td>\n",
       "      <td>0.483540</td>\n",
       "      <td>0.004818</td>\n",
       "      <td>0.005131</td>\n",
       "      <td>0.083879</td>\n",
       "    </tr>\n",
       "    <tr>\n",
       "      <th>6</th>\n",
       "      <td>7</td>\n",
       "      <td>0.532358</td>\n",
       "      <td>0.048818</td>\n",
       "      <td>0.000842</td>\n",
       "      <td>0.080560</td>\n",
       "    </tr>\n",
       "    <tr>\n",
       "      <th>7</th>\n",
       "      <td>8</td>\n",
       "      <td>0.528478</td>\n",
       "      <td>0.003880</td>\n",
       "      <td>0.002361</td>\n",
       "      <td>0.081430</td>\n",
       "    </tr>\n",
       "    <tr>\n",
       "      <th>8</th>\n",
       "      <td>9</td>\n",
       "      <td>0.494395</td>\n",
       "      <td>0.034083</td>\n",
       "      <td>0.007476</td>\n",
       "      <td>0.086813</td>\n",
       "    </tr>\n",
       "    <tr>\n",
       "      <th>9</th>\n",
       "      <td>10</td>\n",
       "      <td>0.483898</td>\n",
       "      <td>0.010497</td>\n",
       "      <td>0.008883</td>\n",
       "      <td>0.095386</td>\n",
       "    </tr>\n",
       "    <tr>\n",
       "      <th>10</th>\n",
       "      <td>11</td>\n",
       "      <td>0.479709</td>\n",
       "      <td>0.004189</td>\n",
       "      <td>0.010028</td>\n",
       "      <td>0.093958</td>\n",
       "    </tr>\n",
       "    <tr>\n",
       "      <th>11</th>\n",
       "      <td>12</td>\n",
       "      <td>0.480032</td>\n",
       "      <td>0.000323</td>\n",
       "      <td>0.006934</td>\n",
       "      <td>0.085808</td>\n",
       "    </tr>\n",
       "  </tbody>\n",
       "</table>\n",
       "</div>"
      ],
      "text/plain": [
       "     x  approximation  relative_diff  I1_error  I2_error\n",
       "0    1       0.565827       0.565827  0.000000  0.080426\n",
       "1    2       0.516215       0.049612  0.003696  0.082490\n",
       "2    3       0.489756       0.026459  0.008661  0.088133\n",
       "3    4       0.482646       0.007110  0.003935  0.098279\n",
       "4    5       0.478722       0.003924  0.009829  0.091512\n",
       "5    6       0.483540       0.004818  0.005131  0.083879\n",
       "6    7       0.532358       0.048818  0.000842  0.080560\n",
       "7    8       0.528478       0.003880  0.002361  0.081430\n",
       "8    9       0.494395       0.034083  0.007476  0.086813\n",
       "9   10       0.483898       0.010497  0.008883  0.095386\n",
       "10  11       0.479709       0.004189  0.010028  0.093958\n",
       "11  12       0.480032       0.000323  0.006934  0.085808"
      ]
     },
     "execution_count": 11,
     "metadata": {},
     "output_type": "execute_result"
    }
   ],
   "source": [
    "trapdf = pd.DataFrame({\n",
    "    'x': x_used,\n",
    "    'approximation': approximations,\n",
    "    'relative_diff': relative_differences,\n",
    "    'I1_error': np.array(errors)[:,0],\n",
    "    'I2_error': np.array(errors)[:,1],\n",
    "})\n",
    "trapdf"
   ]
  },
  {
   "cell_type": "code",
   "execution_count": 12,
   "metadata": {},
   "outputs": [
    {
     "data": {
      "image/png": "[encoded data removed]",
      "text/plain": [
       "<Figure size 432x288 with 4 Axes>"
      ]
     },
     "metadata": {
      "needs_background": "light"
     },
     "output_type": "display_data"
    }
   ],
   "source": [
    "trapdf.plot('x', subplots=True, sharex=False)\n",
    "plt.show()"
   ]
  },
  {
   "cell_type": "markdown",
   "metadata": {},
   "source": [
    "When visualizing the plots above, we see that the approximations behind to lessen\n",
    "with then a relative max at around x=7, and then starts to go back down again.\n",
    "This is most likely due to the trigonometric nature of the function and if we were\n",
    "let this go on for longer, we should see it fluctuate like that."
   ]
  },
  {
   "cell_type": "markdown",
   "metadata": {},
   "source": [
    "### Simpson"
   ]
  },
  {
   "cell_type": "code",
   "execution_count": 58,
   "metadata": {},
   "outputs": [],
   "source": [
    "x_used, approximations, relative_differences, errors = solve(simpson)"
   ]
  },
  {
   "cell_type": "code",
   "execution_count": 59,
   "metadata": {},
   "outputs": [
    {
     "data": {
      "text/html": [
       "<div>\n",
       "<style scoped>\n",
       "    .dataframe tbody tr th:only-of-type {\n",
       "        vertical-align: middle;\n",
       "    }\n",
       "\n",
       "    .dataframe tbody tr th {\n",
       "        vertical-align: top;\n",
       "    }\n",
       "\n",
       "    .dataframe thead th {\n",
       "        text-align: right;\n",
       "    }\n",
       "</style>\n",
       "<table border=\"1\" class=\"dataframe\">\n",
       "  <thead>\n",
       "    <tr style=\"text-align: right;\">\n",
       "      <th></th>\n",
       "      <th>x</th>\n",
       "      <th>approximation</th>\n",
       "      <th>relative_diff</th>\n",
       "      <th>I1_error</th>\n",
       "      <th>I2_error</th>\n",
       "    </tr>\n",
       "  </thead>\n",
       "  <tbody>\n",
       "    <tr>\n",
       "      <th>0</th>\n",
       "      <td>1</td>\n",
       "      <td>0.559850</td>\n",
       "      <td>0.559850</td>\n",
       "      <td>0.000000e+00</td>\n",
       "      <td>5.867530e-09</td>\n",
       "    </tr>\n",
       "    <tr>\n",
       "      <th>1</th>\n",
       "      <td>2</td>\n",
       "      <td>0.509018</td>\n",
       "      <td>0.050832</td>\n",
       "      <td>2.316055e-11</td>\n",
       "      <td>5.984522e-09</td>\n",
       "    </tr>\n",
       "    <tr>\n",
       "      <th>2</th>\n",
       "      <td>3</td>\n",
       "      <td>0.485159</td>\n",
       "      <td>0.023859</td>\n",
       "      <td>1.565473e-10</td>\n",
       "      <td>6.457555e-09</td>\n",
       "    </tr>\n",
       "    <tr>\n",
       "      <th>3</th>\n",
       "      <td>4</td>\n",
       "      <td>0.498548</td>\n",
       "      <td>0.013389</td>\n",
       "      <td>1.406967e-10</td>\n",
       "      <td>7.120203e-09</td>\n",
       "    </tr>\n",
       "    <tr>\n",
       "      <th>4</th>\n",
       "      <td>5</td>\n",
       "      <td>0.486150</td>\n",
       "      <td>0.012398</td>\n",
       "      <td>2.214673e-10</td>\n",
       "      <td>6.639671e-09</td>\n",
       "    </tr>\n",
       "    <tr>\n",
       "      <th>5</th>\n",
       "      <td>6</td>\n",
       "      <td>0.480824</td>\n",
       "      <td>0.005326</td>\n",
       "      <td>4.186144e-11</td>\n",
       "      <td>6.071918e-09</td>\n",
       "    </tr>\n",
       "    <tr>\n",
       "      <th>6</th>\n",
       "      <td>7</td>\n",
       "      <td>0.526773</td>\n",
       "      <td>0.045950</td>\n",
       "      <td>6.990025e-12</td>\n",
       "      <td>5.876363e-09</td>\n",
       "    </tr>\n",
       "    <tr>\n",
       "      <th>7</th>\n",
       "      <td>8</td>\n",
       "      <td>0.521536</td>\n",
       "      <td>0.005238</td>\n",
       "      <td>1.562805e-11</td>\n",
       "      <td>5.925269e-09</td>\n",
       "    </tr>\n",
       "    <tr>\n",
       "      <th>8</th>\n",
       "      <td>9</td>\n",
       "      <td>0.488229</td>\n",
       "      <td>0.033306</td>\n",
       "      <td>1.039698e-10</td>\n",
       "      <td>6.269207e-09</td>\n",
       "    </tr>\n",
       "    <tr>\n",
       "      <th>9</th>\n",
       "      <td>10</td>\n",
       "      <td>0.490420</td>\n",
       "      <td>0.002191</td>\n",
       "      <td>2.751143e-10</td>\n",
       "      <td>6.938905e-09</td>\n",
       "    </tr>\n",
       "    <tr>\n",
       "      <th>10</th>\n",
       "      <td>11</td>\n",
       "      <td>0.491354</td>\n",
       "      <td>0.000934</td>\n",
       "      <td>2.851668e-10</td>\n",
       "      <td>6.846619e-09</td>\n",
       "    </tr>\n",
       "  </tbody>\n",
       "</table>\n",
       "</div>"
      ],
      "text/plain": [
       "     x  approximation  relative_diff      I1_error      I2_error\n",
       "0    1       0.559850       0.559850  0.000000e+00  5.867530e-09\n",
       "1    2       0.509018       0.050832  2.316055e-11  5.984522e-09\n",
       "2    3       0.485159       0.023859  1.565473e-10  6.457555e-09\n",
       "3    4       0.498548       0.013389  1.406967e-10  7.120203e-09\n",
       "4    5       0.486150       0.012398  2.214673e-10  6.639671e-09\n",
       "5    6       0.480824       0.005326  4.186144e-11  6.071918e-09\n",
       "6    7       0.526773       0.045950  6.990025e-12  5.876363e-09\n",
       "7    8       0.521536       0.005238  1.562805e-11  5.925269e-09\n",
       "8    9       0.488229       0.033306  1.039698e-10  6.269207e-09\n",
       "9   10       0.490420       0.002191  2.751143e-10  6.938905e-09\n",
       "10  11       0.491354       0.000934  2.851668e-10  6.846619e-09"
      ]
     },
     "execution_count": 59,
     "metadata": {},
     "output_type": "execute_result"
    }
   ],
   "source": [
    "simpdf = pd.DataFrame({\n",
    "    'x': x_used,\n",
    "    'approximation': approximations,\n",
    "    'relative_diff': relative_differences,\n",
    "    'I1_error': np.array(errors)[:,0],\n",
    "    'I2_error': np.array(errors)[:,1],\n",
    "})\n",
    "simpdf"
   ]
  },
  {
   "cell_type": "code",
   "execution_count": 60,
   "metadata": {},
   "outputs": [
    {
     "data": {
      "image/png": "[encoded data removed]",
      "text/plain": [
       "<Figure size 432x288 with 4 Axes>"
      ]
     },
     "metadata": {
      "needs_background": "light"
     },
     "output_type": "display_data"
    }
   ],
   "source": [
    "simpdf.plot('x', subplots=True, sharex=False)\n",
    "plt.show()"
   ]
  },
  {
   "cell_type": "markdown",
   "metadata": {},
   "source": [
    "Let us now inspect our data."
   ]
  },
  {
   "cell_type": "code",
   "execution_count": 61,
   "metadata": {},
   "outputs": [
    {
     "name": "stdout",
     "output_type": "stream",
     "text": [
      "Mean I1 error: 0.005647908405823799\n",
      "Mean I2 error: 0.08738966796369523\n"
     ]
    },
    {
     "data": {
      "text/html": [
       "<div>\n",
       "<style scoped>\n",
       "    .dataframe tbody tr th:only-of-type {\n",
       "        vertical-align: middle;\n",
       "    }\n",
       "\n",
       "    .dataframe tbody tr th {\n",
       "        vertical-align: top;\n",
       "    }\n",
       "\n",
       "    .dataframe thead th {\n",
       "        text-align: right;\n",
       "    }\n",
       "</style>\n",
       "<table border=\"1\" class=\"dataframe\">\n",
       "  <thead>\n",
       "    <tr style=\"text-align: right;\">\n",
       "      <th></th>\n",
       "      <th>x</th>\n",
       "      <th>approximation</th>\n",
       "      <th>relative_diff</th>\n",
       "      <th>I1_error</th>\n",
       "      <th>I2_error</th>\n",
       "    </tr>\n",
       "  </thead>\n",
       "  <tbody>\n",
       "    <tr>\n",
       "      <th>count</th>\n",
       "      <td>12.000000</td>\n",
       "      <td>12.000000</td>\n",
       "      <td>12.000000</td>\n",
       "      <td>12.000000</td>\n",
       "      <td>12.000000</td>\n",
       "    </tr>\n",
       "    <tr>\n",
       "      <th>mean</th>\n",
       "      <td>6.500000</td>\n",
       "      <td>0.501298</td>\n",
       "      <td>0.063295</td>\n",
       "      <td>0.005648</td>\n",
       "      <td>0.087390</td>\n",
       "    </tr>\n",
       "    <tr>\n",
       "      <th>std</th>\n",
       "      <td>3.605551</td>\n",
       "      <td>0.028066</td>\n",
       "      <td>0.159266</td>\n",
       "      <td>0.003491</td>\n",
       "      <td>0.006128</td>\n",
       "    </tr>\n",
       "    <tr>\n",
       "      <th>min</th>\n",
       "      <td>1.000000</td>\n",
       "      <td>0.478722</td>\n",
       "      <td>0.000323</td>\n",
       "      <td>0.000000</td>\n",
       "      <td>0.080426</td>\n",
       "    </tr>\n",
       "    <tr>\n",
       "      <th>25%</th>\n",
       "      <td>3.750000</td>\n",
       "      <td>0.481993</td>\n",
       "      <td>0.004123</td>\n",
       "      <td>0.003362</td>\n",
       "      <td>0.082225</td>\n",
       "    </tr>\n",
       "    <tr>\n",
       "      <th>50%</th>\n",
       "      <td>6.500000</td>\n",
       "      <td>0.486827</td>\n",
       "      <td>0.008803</td>\n",
       "      <td>0.006032</td>\n",
       "      <td>0.086310</td>\n",
       "    </tr>\n",
       "    <tr>\n",
       "      <th>75%</th>\n",
       "      <td>9.250000</td>\n",
       "      <td>0.519281</td>\n",
       "      <td>0.037767</td>\n",
       "      <td>0.008716</td>\n",
       "      <td>0.092124</td>\n",
       "    </tr>\n",
       "    <tr>\n",
       "      <th>max</th>\n",
       "      <td>12.000000</td>\n",
       "      <td>0.565827</td>\n",
       "      <td>0.565827</td>\n",
       "      <td>0.010028</td>\n",
       "      <td>0.098279</td>\n",
       "    </tr>\n",
       "  </tbody>\n",
       "</table>\n",
       "</div>"
      ],
      "text/plain": [
       "               x  approximation  relative_diff   I1_error   I2_error\n",
       "count  12.000000      12.000000      12.000000  12.000000  12.000000\n",
       "mean    6.500000       0.501298       0.063295   0.005648   0.087390\n",
       "std     3.605551       0.028066       0.159266   0.003491   0.006128\n",
       "min     1.000000       0.478722       0.000323   0.000000   0.080426\n",
       "25%     3.750000       0.481993       0.004123   0.003362   0.082225\n",
       "50%     6.500000       0.486827       0.008803   0.006032   0.086310\n",
       "75%     9.250000       0.519281       0.037767   0.008716   0.092124\n",
       "max    12.000000       0.565827       0.565827   0.010028   0.098279"
      ]
     },
     "execution_count": 61,
     "metadata": {},
     "output_type": "execute_result"
    }
   ],
   "source": [
    "print(f'Mean I1 error: {trapdf.I1_error.mean()}')\n",
    "print(f'Mean I2 error: {trapdf.I2_error.mean()}')\n",
    "trapdf.describe()"
   ]
  },
  {
   "cell_type": "code",
   "execution_count": 62,
   "metadata": {},
   "outputs": [
    {
     "name": "stdout",
     "output_type": "stream",
     "text": [
      "Mean I1 error: 1.1550928650578054e-10\n",
      "Mean I2 error: 6.363433079750187e-09\n"
     ]
    },
    {
     "data": {
      "text/html": [
       "<div>\n",
       "<style scoped>\n",
       "    .dataframe tbody tr th:only-of-type {\n",
       "        vertical-align: middle;\n",
       "    }\n",
       "\n",
       "    .dataframe tbody tr th {\n",
       "        vertical-align: top;\n",
       "    }\n",
       "\n",
       "    .dataframe thead th {\n",
       "        text-align: right;\n",
       "    }\n",
       "</style>\n",
       "<table border=\"1\" class=\"dataframe\">\n",
       "  <thead>\n",
       "    <tr style=\"text-align: right;\">\n",
       "      <th></th>\n",
       "      <th>x</th>\n",
       "      <th>approximation</th>\n",
       "      <th>relative_diff</th>\n",
       "      <th>I1_error</th>\n",
       "      <th>I2_error</th>\n",
       "    </tr>\n",
       "  </thead>\n",
       "  <tbody>\n",
       "    <tr>\n",
       "      <th>count</th>\n",
       "      <td>11.000000</td>\n",
       "      <td>11.000000</td>\n",
       "      <td>11.000000</td>\n",
       "      <td>1.100000e+01</td>\n",
       "      <td>1.100000e+01</td>\n",
       "    </tr>\n",
       "    <tr>\n",
       "      <th>mean</th>\n",
       "      <td>6.000000</td>\n",
       "      <td>0.503442</td>\n",
       "      <td>0.068479</td>\n",
       "      <td>1.155093e-10</td>\n",
       "      <td>6.363433e-09</td>\n",
       "    </tr>\n",
       "    <tr>\n",
       "      <th>std</th>\n",
       "      <td>3.316625</td>\n",
       "      <td>0.024085</td>\n",
       "      <td>0.163895</td>\n",
       "      <td>1.081589e-10</td>\n",
       "      <td>4.620694e-10</td>\n",
       "    </tr>\n",
       "    <tr>\n",
       "      <th>min</th>\n",
       "      <td>1.000000</td>\n",
       "      <td>0.480824</td>\n",
       "      <td>0.000934</td>\n",
       "      <td>0.000000e+00</td>\n",
       "      <td>5.867530e-09</td>\n",
       "    </tr>\n",
       "    <tr>\n",
       "      <th>25%</th>\n",
       "      <td>3.500000</td>\n",
       "      <td>0.487190</td>\n",
       "      <td>0.005282</td>\n",
       "      <td>1.939430e-11</td>\n",
       "      <td>5.954896e-09</td>\n",
       "    </tr>\n",
       "    <tr>\n",
       "      <th>50%</th>\n",
       "      <td>6.000000</td>\n",
       "      <td>0.491354</td>\n",
       "      <td>0.013389</td>\n",
       "      <td>1.039698e-10</td>\n",
       "      <td>6.269207e-09</td>\n",
       "    </tr>\n",
       "    <tr>\n",
       "      <th>75%</th>\n",
       "      <td>8.500000</td>\n",
       "      <td>0.515277</td>\n",
       "      <td>0.039628</td>\n",
       "      <td>1.890073e-10</td>\n",
       "      <td>6.743145e-09</td>\n",
       "    </tr>\n",
       "    <tr>\n",
       "      <th>max</th>\n",
       "      <td>11.000000</td>\n",
       "      <td>0.559850</td>\n",
       "      <td>0.559850</td>\n",
       "      <td>2.851668e-10</td>\n",
       "      <td>7.120203e-09</td>\n",
       "    </tr>\n",
       "  </tbody>\n",
       "</table>\n",
       "</div>"
      ],
      "text/plain": [
       "               x  approximation  relative_diff      I1_error      I2_error\n",
       "count  11.000000      11.000000      11.000000  1.100000e+01  1.100000e+01\n",
       "mean    6.000000       0.503442       0.068479  1.155093e-10  6.363433e-09\n",
       "std     3.316625       0.024085       0.163895  1.081589e-10  4.620694e-10\n",
       "min     1.000000       0.480824       0.000934  0.000000e+00  5.867530e-09\n",
       "25%     3.500000       0.487190       0.005282  1.939430e-11  5.954896e-09\n",
       "50%     6.000000       0.491354       0.013389  1.039698e-10  6.269207e-09\n",
       "75%     8.500000       0.515277       0.039628  1.890073e-10  6.743145e-09\n",
       "max    11.000000       0.559850       0.559850  2.851668e-10  7.120203e-09"
      ]
     },
     "execution_count": 62,
     "metadata": {},
     "output_type": "execute_result"
    }
   ],
   "source": [
    "print(f'Mean I1 error: {simpdf.I1_error.mean()}')\n",
    "print(f'Mean I2 error: {simpdf.I2_error.mean()}')\n",
    "simpdf.describe()"
   ]
  },
  {
   "cell_type": "code",
   "execution_count": null,
   "metadata": {},
   "outputs": [],
   "source": []
  }
 ],
 "metadata": {
  "interpreter": {
   "hash": "0ae98b58dfc9c4764165ee0d2c6054cd2f0cc02b5cabb426508c0590eb3e01aa"
  },
  "kernelspec": {
   "display_name": "Python 3.9.6 64-bit ('.venv')",
   "name": "python3"
  },
  "language_info": {
   "codemirror_mode": {
    "name": "ipython",
    "version": 3
   },
   "file_extension": ".py",
   "mimetype": "text/x-python",
   "name": "python",
   "nbconvert_exporter": "python",
   "pygments_lexer": "ipython3",
   "version": "3.9.6"
  },
  "orig_nbformat": 4
 },
 "nbformat": 4,
 "nbformat_minor": 2
}
