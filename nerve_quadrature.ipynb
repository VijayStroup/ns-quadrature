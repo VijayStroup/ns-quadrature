{
 "cells": [
  {
   "cell_type": "markdown",
   "metadata": {},
   "source": [
    "<h1 style=\"text-align:center;\">Nerve Quadrature Analysis</h1>\n",
    "<h3 style=\"text-align:center;margin:0;\">Vijay Stroup</h3>\n",
    "<p style=\"text-align:center;margin:0;\">University of Central Florida • November 6, 2021</p>"
   ]
  },
  {
   "cell_type": "markdown",
   "metadata": {},
   "source": [
    "# Introduction\n",
    "\n",
    "In a study conducted by John Cahn, John Mallet-Paret, and Erik van Vleck on \n",
    "[\"Traveling Wave Solutions for Systems of ODEs on a Two-Dimensional Spatial Lattice\"](http://www.jstor.org/stable/118432), \n",
    "they have deduced an function $\\psi$ to represent a impuluse in the human nervious \n",
    "system. "
   ]
  },
  {
   "cell_type": "markdown",
   "metadata": {},
   "source": [
    "Consider the function $\\psi: \\mathbb{R}\\rightarrow\\mathbb{R}$\n",
    "\n",
    "$$\n",
    "\\psi(x) =\n",
    "\\frac{1}2 + \\frac{1}\\pi \\int_0^\\infty \\frac{A(s)sin(sx)}{s(A(s)^2 + c^2s^2)} ds +\n",
    "\\frac{c}\\pi \\int_0^\\infty \\frac{cos(sx)}{A(s)^2 + c^2s^2} ds\n",
    "$$\n",
    "\n",
    "$$ A(s) = 1 + 2(1 - cos(s)) $$"
   ]
  },
  {
   "cell_type": "markdown",
   "metadata": {},
   "source": [
    "$\\psi$ is the wave function representation of We can use different methods of \n",
    "integration to estimate $\\psi$ at different values of x and c.  \n",
    "\n",
    "The methods of quadrature approximation that will be used in this project will \n",
    "be the following:  \n",
    "<br/>\n",
    "Midpoint: $$\\int_a^b f(x) dx \\approx (b-a)f(\\frac{b+a}2)$$  \n",
    "<br/>\n",
    "Trapezoidal: $$\\int_a^b f(x) dx \\approx \\frac{b-a}2 (f(a)+f(b)$$  \n",
    "<br/>\n",
    "Simpson: $$\\int_a^b f(x) dx \\approx \\frac{h}3 (f(a) + 4f(a+h) + f(a+2h)), \\qquad h=\\frac{b-a}2$$  \n",
    "<br/>\n",
    "\n",
    "In genearl, we can write a quadrature formula as\n",
    "$$\\int_a^b f(x)dx \\approx \\sum_{i=1}^n w_i f(x_i)$$\n",
    "where we want to choose weights $w_i$ and nodes so that the formula is as accurate as possible."
   ]
  },
  {
   "cell_type": "markdown",
   "metadata": {},
   "source": [
    "When doing quadrature analysis, we run into the problem of not knowing what the \n",
    "exact integral will be when comparing for error. Thus, we must use specific \n",
    "algorithms that do not require a compairson of the exact answer.  \n",
    "\n",
    "For the Midpoint rule, we can use same as trapezoidal but coef is different\n",
    "\n",
    "For The Trapezoidal rule, we can use Richardson's Error Estimate to determine\n",
    "how accurate each iteration is. Richardson's Error Estimate is defined as:\n",
    "$$|\\int_a^b f(x) dx - T_n| \\leq \\frac{h^2}{12} (b-a) \\max_{x \\in [a,b]} |f''(x)|$$  \n",
    "\n",
    "For Simpson's rule, we can use 5.3 (230)"
   ]
  },
  {
   "cell_type": "markdown",
   "metadata": {},
   "source": [
    "I believe that Simpon's Rule will be more accurate when estimaing what this function should be. It will also be able to be more accurate with many less nodes than required by the trapezodial rule. This is shown by calculating the number of nodes needed to achieve a certain error for both methods. While the midpoint rule only requires the two end nodes, it can can be highly inaccurate as we will see later in the error analysis."
   ]
  },
  {
   "cell_type": "markdown",
   "metadata": {},
   "source": [
    "For our function $\\psi$, it is reasonable to vary c within the interval [0, 10] \n",
    "and then choose values of x that will capture a good amount of data without \n",
    "sacrificing a lot of time. This can be done by checking, on each iteration, the\n",
    "result relative to the previous iteration and cutting it off after a certain\n",
    "threshold.  \n",
    "\n",
    "Things to think about when analyzing this problem are:\n",
    "- Our limits of integration are from 0 to $\\infty$, what would be a good cut off point for\n",
    "    our upper bound?\n",
    "- What happens we set c=0 which is still in our acceptable range? It would make\n",
    "    the third term of $\\psi$ go to 0.\n",
    "- Compounding error on each iteration?"
   ]
  },
  {
   "cell_type": "code",
   "execution_count": 1,
   "metadata": {},
   "outputs": [
    {
     "name": "stdout",
     "output_type": "stream",
     "text": [
      "42.5\n",
      "41.83333333333333\n",
      "[ 0.5  3.   9.5 22.  42.5]\n"
     ]
    }
   ],
   "source": [
    "from scipy.integrate import trapezoid, simpson, cumulative_trapezoid\n",
    "\n",
    "f = lambda x: x**2\n",
    "\n",
    "xs = [0, 1, 2, 3, 4, 5]\n",
    "ys = [f(i) for i in xs]\n",
    "print(trapezoid(ys, xs))\n",
    "print(simpson(ys, xs))\n",
    "print(cumulative_trapezoid(ys, xs))"
   ]
  },
  {
   "cell_type": "code",
   "execution_count": 8,
   "metadata": {},
   "outputs": [
    {
     "data": {
      "image/png": "[encoded data removed]",
      "text/plain": [
       "<Figure size 432x288 with 1 Axes>"
      ]
     },
     "metadata": {
      "needs_background": "light"
     },
     "output_type": "display_data"
    }
   ],
   "source": [
    "import numpy as np\n",
    "import matplotlib.pyplot as plt\n",
    "\n",
    "A = lambda s: 1 + 2 * (1 - np.cos(s))\n",
    "f1 = lambda c, s, x: (A(s) * np.sin(s*x)) / (s * (A(s)**2 + c**2 * s**2))\n",
    "f2 = lambda c, s, x: np.cos(s*x) / (A(s)**2 + c**2 * s**2)\n",
    "\n",
    "c, x = 1, 1\n",
    "xs = np.linspace(-10, 10, 100)\n",
    "f1ys = [f1(c, i, x) for i in xs]\n",
    "f2ys = [f2(c, i, x) for i in xs]\n",
    "psi = lambda f1, f2: 1/2 + 1/np.pi * f1 + c/np.pi * f2\n",
    "psis = [psi(f1, f2) for f1, f2 in zip(f1ys, f2ys)]\n",
    "plt.plot(xs, psis)\n",
    "plt.show()"
   ]
  },
  {
   "cell_type": "code",
   "execution_count": null,
   "metadata": {},
   "outputs": [
    {
     "name": "stdout",
     "output_type": "stream",
     "text": [
      "(-0.002088040459580688, -0.006884123348834443)\n",
      "(0.005321531231576998, 0.0011097127899821289)\n",
      "(-0.005443242101362567, 0.02253755116320326)\n",
      "(-0.007938148467594138, -0.027462535709783357)\n",
      "(0.29905944021995945, 0.07786436936297904)\n",
      "(0.29905944021995945, 0.07786436936297904)\n",
      "(-0.007938148467594172, -0.027462535709783343)\n",
      "(-0.005443242101362546, 0.022537551163203287)\n",
      "(0.005321531231576999, 0.0011097127899821156)\n",
      "(-0.002088040459580688, -0.006884123348834443)\n"
     ]
    }
   ],
   "source": [
    "for x in zip(f1ys, f2ys):\n",
    "    print(x)"
   ]
  },
  {
   "cell_type": "code",
   "execution_count": null,
   "metadata": {},
   "outputs": [
    {
     "data": {
      "text/plain": [
       "[-0.006884123348834443,\n",
       " 0.0011097127899821289,\n",
       " 0.02253755116320326,\n",
       " -0.027462535709783357,\n",
       " 0.07786436936297904,\n",
       " 0.07786436936297904,\n",
       " -0.027462535709783343,\n",
       " 0.022537551163203287,\n",
       " 0.0011097127899821156,\n",
       " -0.006884123348834443]"
      ]
     },
     "execution_count": 13,
     "metadata": {},
     "output_type": "execute_result"
    }
   ],
   "source": [
    "f2ys"
   ]
  }
 ],
 "metadata": {
  "interpreter": {
   "hash": "0ae98b58dfc9c4764165ee0d2c6054cd2f0cc02b5cabb426508c0590eb3e01aa"
  },
  "kernelspec": {
   "display_name": "Python 3.9.6 64-bit ('.venv')",
   "name": "python3"
  },
  "language_info": {
   "codemirror_mode": {
    "name": "ipython",
    "version": 3
   },
   "file_extension": ".py",
   "mimetype": "text/x-python",
   "name": "python",
   "nbconvert_exporter": "python",
   "pygments_lexer": "ipython3",
   "version": "3.9.6"
  },
  "orig_nbformat": 4
 },
 "nbformat": 4,
 "nbformat_minor": 2
}
