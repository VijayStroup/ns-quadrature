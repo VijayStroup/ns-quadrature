{
 "cells": [
  {
   "cell_type": "markdown",
   "metadata": {},
   "source": [
    "<h1 style=\"text-align:center;\">Nerve Quadrature Analysis</h1>\n",
    "<h3 style=\"text-align:center;margin:0;\">Vijay Stroup</h3>\n",
    "<p style=\"text-align:center;margin:0;\">University of Central Florida • November 6, 2021</p>"
   ]
  },
  {
   "cell_type": "markdown",
   "metadata": {},
   "source": [
    "# Introduction\n",
    "\n",
    "In a study conducted by John Cahn, John Mallet-Paret, and Erik van Vleck on \n",
    "[\"Traveling Wave Solutions for Systems of ODEs on a Two-Dimensional Spatial Lattice\"](http://www.jstor.org/stable/118432), \n",
    "they have deduced an function $\\psi$ to represent an electrical impuluse in the human nervious \n",
    "system.   \n",
    "The goal of this project is to use different quadrature methods to determine the \n",
    "result of the function $\\psi$ and to determine which method is best suited for\n",
    "solving the function."
   ]
  },
  {
   "cell_type": "markdown",
   "metadata": {},
   "source": [
    "Consider the function $\\psi: \\mathbb{R}\\rightarrow\\mathbb{R}$\n",
    "\n",
    "$$\n",
    "\\psi(x) =\n",
    "\\frac{1}2 + \\frac{1}\\pi \\int_0^\\infty \\frac{A(s)sin(sx)}{s(A(s)^2 + c^2s^2)} ds +\n",
    "\\frac{c}\\pi \\int_0^\\infty \\frac{cos(sx)}{A(s)^2 + c^2s^2} ds\n",
    "$$\n",
    "\n",
    "$$ A(s) = 1 + 2(1 - cos(s)) $$"
   ]
  },
  {
   "cell_type": "markdown",
   "metadata": {},
   "source": [
    "We can use different methods of \n",
    "integration to estimate $\\psi$ at different values of x and c.  \n",
    "\n",
    "The methods of quadrature approximation that will be used in this project will \n",
    "be the following:  \n",
    "<br/>\n",
    "Midpoint: $$\\int_a^b f(x) dx \\approx (b-a)f(\\frac{b+a}2)$$  \n",
    "<br/>\n",
    "Trapezoidal: $$\\int_a^b f(x) dx \\approx \\frac{b-a}2 (f(a)+f(b)$$  \n",
    "<br/>\n",
    "Simpson: $$\\int_a^b f(x) dx \\approx \\frac{h}3 (f(a) + 4f(a+h) + f(a+2h)), \\qquad h=\\frac{b-a}2$$  \n",
    "<br/>\n",
    "\n",
    "In genearl, we can write a quadrature formula as\n",
    "$$\\int_a^b f(x)dx \\approx \\sum_{i=1}^n w_i f(x_i)$$\n",
    "where we want to choose weights $w_i$ and nodes so that the formula is as accurate as possible."
   ]
  },
  {
   "cell_type": "markdown",
   "metadata": {},
   "source": [
    "When doing quadrature analysis, we run into the problem of not knowing what the \n",
    "exact integral will be when comparing for error. Thus, we must use specific \n",
    "algorithms that do not require a compairson of the exact answer.  \n",
    "\n",
    "For the Midpoint rule, we can use the following equation to get the error of each\n",
    "iteration:\n",
    "$$|\\int_a^b f(x) dx - M_n| \\leq \\frac{(b-a)^3}{24n^2} \\max_{x \\in [a,b]} |f''(x)|$$  \n",
    "\n",
    "<br/>\n",
    "\n",
    "For The Trapezoidal rule, we can use Richardson's Error Estimate to determine\n",
    "how accurate each iteration is. Richardson's Error Estimate is defined as:\n",
    "$$|\\int_a^b f(x) dx - T_n| \\leq \\frac{(b-a)^3}{12n^2} \\max_{x \\in [a,b]} |f''(x)|$$  \n",
    "\n",
    "<br/>\n",
    "\n",
    "For Simpson's rule, we can use the error term defined as:\n",
    "$$|\\int_a^b f(x) dx - S_n| \\leq \\frac{(b-a)^5}{180n^4} \\max_{x \\in [a,b]} |f^{(4)}(x)|$$  "
   ]
  },
  {
   "cell_type": "markdown",
   "metadata": {},
   "source": [
    "I think that Simpson's Rule will be the most accurate when approximating $\\psi$.\n",
    "However with this, I think it will be quite a bit more slow than the Trapezoidal\n",
    "Rule which I think will be the $2^{nd}$ most accurate, with a lot more performance.\n",
    "So in the end, I think the Trapezoidal Rule will be the most effective for our\n",
    "problem."
   ]
  },
  {
   "cell_type": "markdown",
   "metadata": {},
   "source": [
    "For our function $\\psi$, it is reasonable to vary c within the interval [0, 10] \n",
    "and then choose values of x that will capture a good amount of data over an \n",
    "interval $-l$ to $l$. We can determine this by plotting the function $\\psi$ with a \n",
    "constant c, and then determine the bounds from there.\n",
    "\n",
    "Things to think about when analyzing this problem are:\n",
    "- Our limits of integration are from 0 to $\\infty$, what would be a good cut off point for\n",
    "    our upper bound?\n",
    "- What happens we set c=0 which is still in our acceptable range? It would make\n",
    "    the third term of $\\psi$ go to 0.\n",
    "- Compounding error on each iteration?"
   ]
  },
  {
   "cell_type": "markdown",
   "metadata": {},
   "source": [
    "# Analyis"
   ]
  },
  {
   "cell_type": "markdown",
   "metadata": {},
   "source": [
    "We can first start off by visualizing the second and third integrand functions.  \n",
    "We can see both of them have the trigonometric functions sin and cos so we should \n",
    "expect the plots to be bounded to 1 and have some type of oscillation.  \n",
    "I will be utilizing the following libraries:\n",
    "- [Numpy](https://numpy.org/): Data manipulation\n",
    "- [Matplotlib](https://matplotlib.org/): Plotting\n",
    "- [Scipy](https://scipy.org/): Integration functions\n",
    "- [Pandas](https://pandas.org/): Data orginazation  \n",
    "\n",
    "These libraries will provide all the functionality we will need for approximating\n",
    "the function $\\psi$ at different values of x. Scipy does not come with a method\n",
    "for the midpoint rule, so we will have to create a function ourselves to evalute\n",
    "the function $\\psi$ for the midpoint rule.  \n",
    "\n",
    "All calculations are done with python/numpy's default float32 datatype which has\n",
    "a machine percision of $1.19209*10^{-7}$."
   ]
  },
  {
   "cell_type": "code",
   "execution_count": 2,
   "metadata": {},
   "outputs": [],
   "source": [
    "# import all libraries needed for this project\n",
    "import numpy as np\n",
    "import matplotlib.pyplot as plt\n",
    "import pandas as pd\n",
    "from scipy.integrate import quad, trapezoid, simpson\n",
    "from scipy.misc import derivative\n",
    "import warnings\n",
    "\n",
    "warnings.filterwarnings('ignore') # ignore warnings from scipy integrate to inf\n",
    "%matplotlib inline"
   ]
  },
  {
   "cell_type": "markdown",
   "metadata": {},
   "source": [
    "In this analysis, I1 will be refered to as the integrand in the second term in $\\psi$:\n",
    "$$\\frac{A(s)sin(sx)}{s(A(s)^2 + c^2s^2)}$$  \n",
    "\n",
    "I2 is the integrand in the third term of $\\psi$:\n",
    "$$\\frac{cos(sx)}{A(s)^2 + c^2s^2}$$  "
   ]
  },
  {
   "cell_type": "code",
   "execution_count": 3,
   "metadata": {},
   "outputs": [],
   "source": [
    "A = lambda s: 1 + 2 * (1 - np.cos(s)) # A(s)\n",
    "I1 = lambda s, c, x: (A(s) * np.sin(s*x)) / (s * (A(s)**2 + c**2 * s**2))\n",
    "I2 = lambda s, c, x: np.cos(s*x) / (A(s)**2 + c**2 * s**2)\n",
    "\n",
    "def integral_plots(xs, c, x, lowery):\n",
    "    I1_values = [I1(i, c, x) for i in xs]\n",
    "    I2_values = [I2(i, c, x) for i in xs]\n",
    "\n",
    "    _, ax = plt.subplots(1, 2)\n",
    "\n",
    "    ax[0].plot(xs, I1_values)\n",
    "    ax[0].set_title('I1')\n",
    "    ax[0].set_xlabel('s')\n",
    "    ax[0].set_ylabel('value')\n",
    "    ax[0].set_ylim(lowery, 1)\n",
    "\n",
    "    ax[1].plot(xs, I2_values)\n",
    "    ax[1].set_title('I2')\n",
    "    ax[1].set_xlabel('s')\n",
    "    ax[1].set_ylabel('value')\n",
    "    ax[1].set_ylim(lowery, 1)\n",
    "\n",
    "    plt.subplots_adjust(wspace=.5)\n",
    "    plt.show()"
   ]
  },
  {
   "cell_type": "markdown",
   "metadata": {},
   "source": [
    "Let's first start by visualizing the integrand functions I1 and I2. From this we \n",
    "may be able to draw some conclusions as to how $\\psi$ should behave."
   ]
  },
  {
   "cell_type": "code",
   "execution_count": 4,
   "metadata": {},
   "outputs": [
    {
     "data": {
      "image/png": "[encoded data removed]",
      "text/plain": [
       "<Figure size 432x288 with 2 Axes>"
      ]
     },
     "metadata": {
      "needs_background": "light"
     },
     "output_type": "display_data"
    }
   ],
   "source": [
    "xs = np.linspace(0, 20, 250)\n",
    "c, x = 1, 1\n",
    "integral_plots(xs, c, x, -.1)"
   ]
  },
  {
   "cell_type": "markdown",
   "metadata": {},
   "source": [
    "Here we observe I1 and I2 with c and x being set to 1. They have a maximum at s=0\n",
    "and then it begins to dampen as we move away from 0.  \n",
    "I1 which is our sine function seems to dampen a lot faster than I2, the cosine.\n",
    "This may be an indicator that we may need to have a bigger upperbound for I2\n",
    "to get roughly the same error as I1 when doing calculations."
   ]
  },
  {
   "cell_type": "markdown",
   "metadata": {},
   "source": [
    "Let us now start to vary c and x and see what time of result we get for I1 and I2."
   ]
  },
  {
   "cell_type": "code",
   "execution_count": 5,
   "metadata": {},
   "outputs": [
    {
     "data": {
      "image/png": "[encoded data removed]",
      "text/plain": [
       "<Figure size 432x288 with 2 Axes>"
      ]
     },
     "metadata": {
      "needs_background": "light"
     },
     "output_type": "display_data"
    }
   ],
   "source": [
    "xs = np.linspace(0, 20, 250)\n",
    "c, x = 1, 5\n",
    "integral_plots(xs, c, x, -.5)"
   ]
  },
  {
   "cell_type": "markdown",
   "metadata": {},
   "source": [
    "We can easily see that when we increase x while keeping c constant at 1, our integrands'\n",
    "amplitudes of oscillation increase and thus, will increase the error. From this \n",
    "we should see that the error should grow from small to large or large to small."
   ]
  },
  {
   "cell_type": "code",
   "execution_count": 6,
   "metadata": {},
   "outputs": [
    {
     "data": {
      "image/png": "[encoded data removed]",
      "text/plain": [
       "<Figure size 432x288 with 2 Axes>"
      ]
     },
     "metadata": {
      "needs_background": "light"
     },
     "output_type": "display_data"
    }
   ],
   "source": [
    "xs = np.linspace(0, 20, 250)\n",
    "c, x = 5, 1\n",
    "integral_plots(xs, c, x, -.05)"
   ]
  },
  {
   "cell_type": "markdown",
   "metadata": {},
   "source": [
    "When we then increase c, I1 and I2 then dampen very quickly. With this observation,\n",
    "the error when increasing c should decrease the error."
   ]
  },
  {
   "cell_type": "markdown",
   "metadata": {},
   "source": [
    "Let us now view what our functions will look like for small values of c."
   ]
  },
  {
   "cell_type": "code",
   "execution_count": 10,
   "metadata": {},
   "outputs": [
    {
     "data": {
      "image/png": "[encoded data removed]",
      "text/plain": [
       "<Figure size 432x288 with 2 Axes>"
      ]
     },
     "metadata": {
      "needs_background": "light"
     },
     "output_type": "display_data"
    }
   ],
   "source": [
    "xs = np.linspace(0, 20, 250)\n",
    "c, x = .1, 1\n",
    "integral_plots(xs, c, x, -.1)"
   ]
  },
  {
   "cell_type": "markdown",
   "metadata": {},
   "source": [
    "When c is set to small values such as .1, we can see that it takes much longer\n",
    "for the integrands to dampen. This leads me to beleive we will have a more \n",
    "dramatic effect of $\\psi$ for small values of c."
   ]
  },
  {
   "cell_type": "markdown",
   "metadata": {},
   "source": [
    "We can now visualize $\\psi(x), x\\in[-20, 20]$ to get a better picture \n",
    "of what to expect from our approximations.  \n",
    "We will just use the basic quad method from scipy to use as visualization of $\\psi$."
   ]
  },
  {
   "cell_type": "code",
   "execution_count": 13,
   "metadata": {},
   "outputs": [],
   "source": [
    "def plot_psi(xs, c, zoom_around=0):\n",
    "    ys = []\n",
    "    for x in xs:\n",
    "        a = quad(I1, 0, np.inf, args=(c, x))\n",
    "        b = quad(I2, 0, np.inf, args=(c, x))\n",
    "        y = 1/2 + (1/np.pi * a[0]) + (c/np.pi * b[0])\n",
    "        ys.append(y)\n",
    "\n",
    "    _, ax = plt.subplots(1, 2)\n",
    "\n",
    "    ax[0].plot(xs, ys)\n",
    "    ax[0].set_title('psi')\n",
    "    ax[0].set_xlabel('x')\n",
    "    ax[0].set_ylabel('value')\n",
    "\n",
    "    ax[1].plot(xs, ys)\n",
    "    ax[1].set_title('psi zoomed in')\n",
    "    ax[1].set_xlabel('x')\n",
    "    ax[1].set_ylabel('value')\n",
    "    ax[1].set_xlim(zoom_around-3, zoom_around+3)\n",
    "\n",
    "    plt.subplots_adjust(wspace=.5)\n",
    "    plt.show()"
   ]
  },
  {
   "cell_type": "code",
   "execution_count": 14,
   "metadata": {},
   "outputs": [
    {
     "data": {
      "image/png": "[encoded data removed]",
      "text/plain": [
       "<Figure size 432x288 with 2 Axes>"
      ]
     },
     "metadata": {
      "needs_background": "light"
     },
     "output_type": "display_data"
    }
   ],
   "source": [
    "c = 1\n",
    "xs = np.linspace(-20, 20, 500)\n",
    "plot_psi(xs, c)"
   ]
  },
  {
   "cell_type": "markdown",
   "metadata": {},
   "source": [
    "Viewing the plot above, we can see what the function $\\psi$ looks like in the\n",
    "interval $[-20, 20]$. If we look at the zoomed in figure on the right, we can \n",
    "see that there is this \"steps\" segment in our function. We can also observe from\n",
    "the original plot that the ends seem to be quite turbulent. This aligns with the\n",
    "observations we saw above when viewing I1 and I2 where with increasing x, we see\n",
    "the function having more sharper frequencies. It is also important to note that\n",
    "the function $\\psi$ seems to be symmetrical, so we should expect results to\n",
    "reflect that as well."
   ]
  },
  {
   "cell_type": "markdown",
   "metadata": {},
   "source": [
    "Let's take a closer look at the ends of our interval where there seems to be lots of noise."
   ]
  },
  {
   "cell_type": "code",
   "execution_count": 17,
   "metadata": {},
   "outputs": [
    {
     "data": {
      "image/png": "[encoded data removed]",
      "text/plain": [
       "<Figure size 432x288 with 2 Axes>"
      ]
     },
     "metadata": {
      "needs_background": "light"
     },
     "output_type": "display_data"
    }
   ],
   "source": [
    "plot_psi(xs, c, 15)"
   ]
  },
  {
   "cell_type": "markdown",
   "metadata": {},
   "source": [
    "From the plot above, we see that there is fluxuations on the ends of our function\n",
    "that will cause the answer to keep changing and not converge to what we like.\n",
    "This is the main reason as to why we need to stop checking certain values of x\n",
    "depending on what we mark as our c value. We can do this by first plotting what\n",
    "$\\psi$ will look like before we begin our calculations; and when we start, adjust\n",
    "our x interval to capture enough data without having to spend extra time doing \n",
    "unnessary calculations."
   ]
  },
  {
   "cell_type": "markdown",
   "metadata": {},
   "source": [
    "Let us now observe what $\\psi$ will look like for small values of c."
   ]
  },
  {
   "cell_type": "code",
   "execution_count": 18,
   "metadata": {},
   "outputs": [
    {
     "data": {
      "image/png": "[encoded data removed]",
      "text/plain": [
       "<Figure size 432x288 with 2 Axes>"
      ]
     },
     "metadata": {
      "needs_background": "light"
     },
     "output_type": "display_data"
    }
   ],
   "source": [
    "c = .1\n",
    "xs = np.linspace(-10, 10, 500)\n",
    "plot_psi(xs, c)"
   ]
  },
  {
   "cell_type": "code",
   "execution_count": 19,
   "metadata": {},
   "outputs": [
    {
     "data": {
      "image/png": "[encoded data removed]",
      "text/plain": [
       "<Figure size 432x288 with 2 Axes>"
      ]
     },
     "metadata": {
      "needs_background": "light"
     },
     "output_type": "display_data"
    }
   ],
   "source": [
    "c = .01\n",
    "xs = np.linspace(-10, 10, 500)\n",
    "plot_psi(xs, c)"
   ]
  },
  {
   "cell_type": "markdown",
   "metadata": {},
   "source": [
    "As c becomes small, the \"steps\" phenomomeon becomes more apparent in our function.\n",
    "It is also observed that there is very extreme oscillations on the ends of our \n",
    "interval leading me to think that with small c values, the higher the error\n",
    "of our approximations will be."
   ]
  },
  {
   "cell_type": "markdown",
   "metadata": {},
   "source": [
    "Before we begin to approximate $\\psi(x)$ with our different methods, we have to\n",
    "determine what is a proper interval of our integrals. From our visualisation of\n",
    "$\\psi(x)$ above, we know the ends of the intervals will have high error and \n",
    "plataou, so we should not include this in our calculations. Our goal is to identify\n",
    "the proper region dependent on the value of c, and then run our different \n",
    "algorithsm and then compare their approximations and errors to determine which\n",
    "method is best suited for this problem."
   ]
  },
  {
   "cell_type": "markdown",
   "metadata": {},
   "source": [
    "Let us now begin to analyze the different quadrature methods mentioned in the \n",
    "introduction."
   ]
  },
  {
   "cell_type": "markdown",
   "metadata": {},
   "source": [
    "First we will define the function $\\psi(x)$ along with getting the errors of each\n",
    "x value."
   ]
  },
  {
   "cell_type": "code",
   "execution_count": 109,
   "metadata": {},
   "outputs": [],
   "source": [
    "def get_error(f, domain, n, c, x, h_pow, const, n_pow):\n",
    "    derivatives = [derivative(f, s, n=n, order=n+1, args=(c, x)) for s in domain]\n",
    "    derivative_max = np.max(np.array(derivatives)[~np.isnan(derivatives)])\n",
    "    error = (domain[-1] - domain[0])**h_pow / (const * len(domain)**n_pow) * derivative_max\n",
    "    return error\n",
    "\n",
    "def psi(f, c, x, I1_lim, I2_lim):\n",
    "    I1_domain = np.linspace(0, I1_lim, 250)\n",
    "    I2_domain = np.linspace(0, I2_lim, 250)\n",
    "\n",
    "    I1_func_values = np.nan_to_num([I1(s, c, x) for s in I1_domain])\n",
    "    I2_func_values = np.nan_to_num([I2(s, c, x) for s in I2_domain])\n",
    "\n",
    "    I1_approx = f(I1_func_values, I1_domain)\n",
    "    I2_approx = f(I2_func_values, I2_domain)\n",
    "\n",
    "    if f == trapezoid:\n",
    "        I1_error = get_error(I1, I1_domain, 2, c, x, 3, 12, 2)\n",
    "        I2_error = get_error(I2, I2_domain, 2, c, x, 3, 12, 2)\n",
    "    elif f == simpson:\n",
    "        I1_error = get_error(I1, I1_domain, 4, c, x, 5, 180, 4)\n",
    "        I2_error = get_error(I2, I2_domain, 4, c, x, 5, 180, 4)\n",
    "\n",
    "    return 1/2 + (1/np.pi * I1_approx) + (c/np.pi * I2_approx), I1_error, I2_error"
   ]
  },
  {
   "cell_type": "markdown",
   "metadata": {},
   "source": [
    "We can then create a function to return the value of $\\psi$ along the xs defined\n",
    "above dependent on the method we pass to it."
   ]
  },
  {
   "cell_type": "code",
   "execution_count": 108,
   "metadata": {},
   "outputs": [],
   "source": [
    "def solve(f, c, xs, lim_tol):\n",
    "    x_used = []\n",
    "    approximations = []\n",
    "    errors = []\n",
    "\n",
    "    for x in xs:\n",
    "        I1_limit, I2_limit = get_int_lims(c, x, lim_tol)\n",
    "        approx, I1_error, I2_error = psi(f, c, x, I1_limit, I2_limit)\n",
    "        x_used.append(x)\n",
    "        errors.append([I1_error, I2_error])\n",
    "        approximations.append(approx)\n",
    "\n",
    "    return np.array(x_used), approximations, errors"
   ]
  },
  {
   "cell_type": "markdown",
   "metadata": {},
   "source": [
    "And then a helper function for when we want to visualize our results."
   ]
  },
  {
   "cell_type": "code",
   "execution_count": 73,
   "metadata": {},
   "outputs": [],
   "source": [
    "def plot_results(df):\n",
    "    _, ax = plt.subplots(2, 1)\n",
    "\n",
    "    ax[0].plot(df.x, df.approximation, label='approximation')\n",
    "    ax[0].set_xlabel('x')\n",
    "    ax[0].set_ylabel(r'$\\psi$')\n",
    "\n",
    "    ax[1].plot(df.x, df.I1_error, label='I1 error')\n",
    "    ax[1].plot(df.x, df.I2_error, label='I2 error')\n",
    "    ax[1].set_xlabel('x')\n",
    "    ax[1].set_ylabel('value')\n",
    "\n",
    "    plt.legend()\n",
    "\n",
    "    plt.show()"
   ]
  },
  {
   "cell_type": "markdown",
   "metadata": {},
   "source": [
    "Before we begin running our midpoint method, let's look to see what is a good \n",
    "endpoint for our integrand functions, because allthough we can take our integrals\n",
    "to very large numbers, it may not be worth the computation because of the \n",
    "dampening effect we saw eailer. Let's check the values of what we get when \n",
    "comparing an endpoint of 100 vs 100,000."
   ]
  },
  {
   "cell_type": "code",
   "execution_count": 55,
   "metadata": {},
   "outputs": [
    {
     "name": "stdout",
     "output_type": "stream",
     "text": [
      "I1 to 100:\t 0.8800460955407019\n",
      "I1 to 100,000:\t 0.8800509192249834\n",
      "I2 to 100:\t 0.5273718177989272\n",
      "I2 to 100,000:\t 0.5118353236057749\n"
     ]
    }
   ],
   "source": [
    "c, x = 1, 1\n",
    "print('I1 to 100:\\t', quad(I1, 0, 100, args=(c, x))[0])\n",
    "print('I1 to 100,000:\\t', quad(I1, 0, 100_000, args=(c, x))[0])\n",
    "print('I2 to 100:\\t', quad(I2, 0, 100, args=(c, x))[0])\n",
    "print('I2 to 100,000:\\t', quad(I2, 0, 100_000, args=(c, x))[0])"
   ]
  },
  {
   "cell_type": "markdown",
   "metadata": {},
   "source": [
    "We can see that for I1, we can see that the integral bounded to 100 is very close\n",
    "to the integral bounded to 100,000. For I2, this is not the case and we will have\n",
    "to consider a larger limit of integration. Let's write a function that will tell\n",
    "us a good cutoff value for both I1 and I2's limits of integration such that the \n",
    "value of the next iteration has a difference of $10^{-4}$."
   ]
  },
  {
   "cell_type": "code",
   "execution_count": 58,
   "metadata": {},
   "outputs": [
    {
     "data": {
      "text/plain": [
       "(13, 43)"
      ]
     },
     "execution_count": 58,
     "metadata": {},
     "output_type": "execute_result"
    }
   ],
   "source": [
    "def get_int_lims(c, x, tol):\n",
    "    I1_prev, I2_prev = 0, 0\n",
    "    I1_lim, I2_lim = 0, 0\n",
    "    for i in range(1, 1_000_001):\n",
    "        if I1_lim and I2_lim: break\n",
    "\n",
    "        I1_val, _ = quad(I1, 0, i, args=(c, x))\n",
    "        I2_val, _ = quad(I2, 0, i, args=(c, x))\n",
    "\n",
    "        if not I1_lim and np.abs(I1_val - I1_prev) <= tol: I1_lim = i\n",
    "        if not I2_lim and np.abs(I2_val - I2_prev) <= tol: I2_lim = i\n",
    "\n",
    "        if not I1_lim: I1_prev = I1_val\n",
    "        if not I2_lim: I2_prev = I2_val\n",
    "\n",
    "    return I1_lim, I2_lim\n",
    "\n",
    "get_int_lims(1, 1, 1e-4)"
   ]
  },
  {
   "cell_type": "markdown",
   "metadata": {},
   "source": [
    "In the example above with having c=1, x=1, and a tolerence of $10^{-4}$, we get\n",
    "our limits of integration to be 13 and 43 for I1 and I2 respectivly. This function \n",
    "necessary to have so that we do not cut our calculations short, nor do we make \n",
    "unnessary calculations cusing our runtime to be longer."
   ]
  },
  {
   "cell_type": "markdown",
   "metadata": {},
   "source": [
    "### Midpoint"
   ]
  },
  {
   "cell_type": "markdown",
   "metadata": {},
   "source": [
    "First thing we want to do as stated above is view what $\\psi$ will look like \n",
    "for a certain value of c. Let's pick c=1 to start."
   ]
  },
  {
   "cell_type": "code",
   "execution_count": 62,
   "metadata": {},
   "outputs": [
    {
     "data": {
      "image/png": "[encoded data removed]",
      "text/plain": [
       "<Figure size 432x288 with 2 Axes>"
      ]
     },
     "metadata": {
      "needs_background": "light"
     },
     "output_type": "display_data"
    }
   ],
   "source": [
    "plot_psi(np.linspace(-20, 20, 250), 1, 10)"
   ]
  },
  {
   "cell_type": "markdown",
   "metadata": {},
   "source": [
    "From the plot above, let's use the x interval of $[-10, 10]$."
   ]
  },
  {
   "cell_type": "code",
   "execution_count": 65,
   "metadata": {},
   "outputs": [],
   "source": [
    "def midpoint(f, x, c, lim):\n",
    "    domain = np.linspace(0, lim, 250)\n",
    "    error = get_error(f, domain, 2, c, x, 3, 24, 2)\n",
    "\n",
    "    a, b, n = 0, lim, lim\n",
    "\n",
    "    h = (b - a) / n\n",
    "    result = 0\n",
    "    for i in range(n):\n",
    "        result += f((a + h / 2) + i * h, c, x)\n",
    "    result *= h\n",
    "\n",
    "    return result, error\n",
    "\n",
    "def solve_midpoint(c, xs, lim_tol):\n",
    "    x_used = []\n",
    "    approximations = []\n",
    "    errors = []\n",
    "\n",
    "    for x in xs:\n",
    "        I1_limit, I2_limit = get_int_lims(c, x, lim_tol)\n",
    "        I1_approx, I1_error = midpoint(I1, x, c, I1_limit)\n",
    "        I2_approx, I2_error = midpoint(I2, x, c, I2_limit)\n",
    "        approx = 1/2 + (1/np.pi * I1_approx) + (c/np.pi * I2_approx)\n",
    "        x_used.append(x)\n",
    "        errors.append([I1_error, I2_error])\n",
    "        approximations.append(approx)\n",
    "\n",
    "    return x_used, approximations, errors"
   ]
  },
  {
   "cell_type": "code",
   "execution_count": 133,
   "metadata": {},
   "outputs": [],
   "source": [
    "x_used, approximations, errors = solve_midpoint(1, np.arange(-10, 11), 1e-4)"
   ]
  },
  {
   "cell_type": "code",
   "execution_count": 134,
   "metadata": {},
   "outputs": [
    {
     "data": {
      "text/html": [
       "<div>\n",
       "<style scoped>\n",
       "    .dataframe tbody tr th:only-of-type {\n",
       "        vertical-align: middle;\n",
       "    }\n",
       "\n",
       "    .dataframe tbody tr th {\n",
       "        vertical-align: top;\n",
       "    }\n",
       "\n",
       "    .dataframe thead th {\n",
       "        text-align: right;\n",
       "    }\n",
       "</style>\n",
       "<table border=\"1\" class=\"dataframe\">\n",
       "  <thead>\n",
       "    <tr style=\"text-align: right;\">\n",
       "      <th></th>\n",
       "      <th>x</th>\n",
       "      <th>approximation</th>\n",
       "      <th>I1_error</th>\n",
       "      <th>I2_error</th>\n",
       "      <th>error</th>\n",
       "    </tr>\n",
       "  </thead>\n",
       "  <tbody>\n",
       "    <tr>\n",
       "      <th>0</th>\n",
       "      <td>-10</td>\n",
       "      <td>0.922671</td>\n",
       "      <td>0.028348</td>\n",
       "      <td>0.006177</td>\n",
       "      <td>0.034526</td>\n",
       "    </tr>\n",
       "    <tr>\n",
       "      <th>1</th>\n",
       "      <td>-9</td>\n",
       "      <td>0.866946</td>\n",
       "      <td>0.019610</td>\n",
       "      <td>0.014983</td>\n",
       "      <td>0.034593</td>\n",
       "    </tr>\n",
       "    <tr>\n",
       "      <th>2</th>\n",
       "      <td>-8</td>\n",
       "      <td>0.759156</td>\n",
       "      <td>0.021536</td>\n",
       "      <td>0.004050</td>\n",
       "      <td>0.025586</td>\n",
       "    </tr>\n",
       "    <tr>\n",
       "      <th>3</th>\n",
       "      <td>-7</td>\n",
       "      <td>0.567479</td>\n",
       "      <td>0.006465</td>\n",
       "      <td>0.004933</td>\n",
       "      <td>0.011398</td>\n",
       "    </tr>\n",
       "    <tr>\n",
       "      <th>4</th>\n",
       "      <td>-6</td>\n",
       "      <td>0.176659</td>\n",
       "      <td>0.002780</td>\n",
       "      <td>0.001162</td>\n",
       "      <td>0.003942</td>\n",
       "    </tr>\n",
       "    <tr>\n",
       "      <th>5</th>\n",
       "      <td>-5</td>\n",
       "      <td>0.072177</td>\n",
       "      <td>0.000897</td>\n",
       "      <td>0.010505</td>\n",
       "      <td>0.011401</td>\n",
       "    </tr>\n",
       "    <tr>\n",
       "      <th>6</th>\n",
       "      <td>-4</td>\n",
       "      <td>0.068964</td>\n",
       "      <td>0.027557</td>\n",
       "      <td>0.015873</td>\n",
       "      <td>0.043431</td>\n",
       "    </tr>\n",
       "    <tr>\n",
       "      <th>7</th>\n",
       "      <td>-3</td>\n",
       "      <td>0.112136</td>\n",
       "      <td>0.010618</td>\n",
       "      <td>0.010530</td>\n",
       "      <td>0.021148</td>\n",
       "    </tr>\n",
       "    <tr>\n",
       "      <th>8</th>\n",
       "      <td>-2</td>\n",
       "      <td>0.202458</td>\n",
       "      <td>0.004718</td>\n",
       "      <td>0.003776</td>\n",
       "      <td>0.008493</td>\n",
       "    </tr>\n",
       "    <tr>\n",
       "      <th>9</th>\n",
       "      <td>-1</td>\n",
       "      <td>0.380060</td>\n",
       "      <td>0.001900</td>\n",
       "      <td>0.040725</td>\n",
       "      <td>0.042624</td>\n",
       "    </tr>\n",
       "    <tr>\n",
       "      <th>10</th>\n",
       "      <td>0</td>\n",
       "      <td>0.794060</td>\n",
       "      <td>0.000000</td>\n",
       "      <td>0.429429</td>\n",
       "      <td>0.429429</td>\n",
       "    </tr>\n",
       "    <tr>\n",
       "      <th>11</th>\n",
       "      <td>1</td>\n",
       "      <td>0.920259</td>\n",
       "      <td>0.000672</td>\n",
       "      <td>0.040725</td>\n",
       "      <td>0.041397</td>\n",
       "    </tr>\n",
       "    <tr>\n",
       "      <th>12</th>\n",
       "      <td>2</td>\n",
       "      <td>0.936835</td>\n",
       "      <td>0.001962</td>\n",
       "      <td>0.003776</td>\n",
       "      <td>0.005737</td>\n",
       "    </tr>\n",
       "    <tr>\n",
       "      <th>13</th>\n",
       "      <td>3</td>\n",
       "      <td>0.904253</td>\n",
       "      <td>0.005490</td>\n",
       "      <td>0.010530</td>\n",
       "      <td>0.016020</td>\n",
       "    </tr>\n",
       "    <tr>\n",
       "      <th>14</th>\n",
       "      <td>4</td>\n",
       "      <td>0.827177</td>\n",
       "      <td>0.015477</td>\n",
       "      <td>0.015873</td>\n",
       "      <td>0.031350</td>\n",
       "    </tr>\n",
       "    <tr>\n",
       "      <th>15</th>\n",
       "      <td>5</td>\n",
       "      <td>0.674231</td>\n",
       "      <td>0.000483</td>\n",
       "      <td>0.010505</td>\n",
       "      <td>0.010987</td>\n",
       "    </tr>\n",
       "    <tr>\n",
       "      <th>16</th>\n",
       "      <td>6</td>\n",
       "      <td>0.419667</td>\n",
       "      <td>0.001439</td>\n",
       "      <td>0.001162</td>\n",
       "      <td>0.002601</td>\n",
       "    </tr>\n",
       "    <tr>\n",
       "      <th>17</th>\n",
       "      <td>7</td>\n",
       "      <td>0.110695</td>\n",
       "      <td>0.003213</td>\n",
       "      <td>0.004933</td>\n",
       "      <td>0.008146</td>\n",
       "    </tr>\n",
       "    <tr>\n",
       "      <th>18</th>\n",
       "      <td>8</td>\n",
       "      <td>0.061357</td>\n",
       "      <td>0.010458</td>\n",
       "      <td>0.004050</td>\n",
       "      <td>0.014508</td>\n",
       "    </tr>\n",
       "    <tr>\n",
       "      <th>19</th>\n",
       "      <td>9</td>\n",
       "      <td>0.082959</td>\n",
       "      <td>0.009979</td>\n",
       "      <td>0.014983</td>\n",
       "      <td>0.024962</td>\n",
       "    </tr>\n",
       "    <tr>\n",
       "      <th>20</th>\n",
       "      <td>10</td>\n",
       "      <td>0.145746</td>\n",
       "      <td>0.015341</td>\n",
       "      <td>0.006177</td>\n",
       "      <td>0.021518</td>\n",
       "    </tr>\n",
       "  </tbody>\n",
       "</table>\n",
       "</div>"
      ],
      "text/plain": [
       "     x  approximation  I1_error  I2_error     error\n",
       "0  -10       0.922671  0.028348  0.006177  0.034526\n",
       "1   -9       0.866946  0.019610  0.014983  0.034593\n",
       "2   -8       0.759156  0.021536  0.004050  0.025586\n",
       "3   -7       0.567479  0.006465  0.004933  0.011398\n",
       "4   -6       0.176659  0.002780  0.001162  0.003942\n",
       "5   -5       0.072177  0.000897  0.010505  0.011401\n",
       "6   -4       0.068964  0.027557  0.015873  0.043431\n",
       "7   -3       0.112136  0.010618  0.010530  0.021148\n",
       "8   -2       0.202458  0.004718  0.003776  0.008493\n",
       "9   -1       0.380060  0.001900  0.040725  0.042624\n",
       "10   0       0.794060  0.000000  0.429429  0.429429\n",
       "11   1       0.920259  0.000672  0.040725  0.041397\n",
       "12   2       0.936835  0.001962  0.003776  0.005737\n",
       "13   3       0.904253  0.005490  0.010530  0.016020\n",
       "14   4       0.827177  0.015477  0.015873  0.031350\n",
       "15   5       0.674231  0.000483  0.010505  0.010987\n",
       "16   6       0.419667  0.001439  0.001162  0.002601\n",
       "17   7       0.110695  0.003213  0.004933  0.008146\n",
       "18   8       0.061357  0.010458  0.004050  0.014508\n",
       "19   9       0.082959  0.009979  0.014983  0.024962\n",
       "20  10       0.145746  0.015341  0.006177  0.021518"
      ]
     },
     "execution_count": 134,
     "metadata": {},
     "output_type": "execute_result"
    }
   ],
   "source": [
    "middf = pd.DataFrame({\n",
    "    'x': x_used,\n",
    "    'approximation': approximations,\n",
    "    'I1_error': np.array(errors)[:,0],\n",
    "    'I2_error': np.array(errors)[:,1],\n",
    "    'error': np.array(errors)[:,0] + np.array(errors)[:,1]\n",
    "})\n",
    "middf"
   ]
  },
  {
   "cell_type": "markdown",
   "metadata": {},
   "source": [
    "We can see that for I1, we can see that the integral bounded to 100 is very close\n",
    "to the integral bounded to 100,000. For I2, this is not the case and we will have\n",
    "to consider a larger limit of integration. Let's write a function that will tell\n",
    "us a good cutoff value for both I1 and I2's limits of integration such that the \n",
    "value of the next iteration has a difference of $10^{-4}$."
   ]
  },
  {
   "cell_type": "code",
   "execution_count": 74,
   "metadata": {},
   "outputs": [
    {
     "data": {
      "image/png": "[encoded data removed]",
      "text/plain": [
       "<Figure size 432x288 with 2 Axes>"
      ]
     },
     "metadata": {
      "needs_background": "light"
     },
     "output_type": "display_data"
    }
   ],
   "source": [
    "plot_results(middf)"
   ]
  },
  {
   "cell_type": "markdown",
   "metadata": {},
   "source": [
    "In the top plot, we have our approximations for the value of $\\psi$ over $x\\in[-10, 10]$.\n",
    "The values also seem to be oscillating which should be apparent from the trig functions\n",
    "embedded in $\\psi$.  \n",
    "It is also important to note the large error spike of I2 around 0. If we take a \n",
    "look back at what I2 is:\n",
    "$$\\frac{cos(sx)}{A(s)^2 + c^2s^2}$$\n",
    "We see that $cos(0)=1$ which is at it's maximum with a large amplitude."
   ]
  },
  {
   "cell_type": "markdown",
   "metadata": {},
   "source": [
    "Let's view our results for midpoint with small values of c."
   ]
  },
  {
   "cell_type": "code",
   "execution_count": 78,
   "metadata": {},
   "outputs": [
    {
     "data": {
      "image/png": "[encoded data removed]",
      "text/plain": [
       "<Figure size 432x288 with 2 Axes>"
      ]
     },
     "metadata": {
      "needs_background": "light"
     },
     "output_type": "display_data"
    }
   ],
   "source": [
    "plot_psi(np.linspace(-20, 20, 250), .1, 2)"
   ]
  },
  {
   "cell_type": "markdown",
   "metadata": {},
   "source": [
    "From the plot above, let's use the x interval from $[-5, 5]$."
   ]
  },
  {
   "cell_type": "code",
   "execution_count": 79,
   "metadata": {},
   "outputs": [],
   "source": [
    "x_used, approximations, errors = solve_midpoint(.1, np.arange(-5, 6), 1e-4)"
   ]
  },
  {
   "cell_type": "code",
   "execution_count": 80,
   "metadata": {},
   "outputs": [
    {
     "data": {
      "text/html": [
       "<div>\n",
       "<style scoped>\n",
       "    .dataframe tbody tr th:only-of-type {\n",
       "        vertical-align: middle;\n",
       "    }\n",
       "\n",
       "    .dataframe tbody tr th {\n",
       "        vertical-align: top;\n",
       "    }\n",
       "\n",
       "    .dataframe thead th {\n",
       "        text-align: right;\n",
       "    }\n",
       "</style>\n",
       "<table border=\"1\" class=\"dataframe\">\n",
       "  <thead>\n",
       "    <tr style=\"text-align: right;\">\n",
       "      <th></th>\n",
       "      <th>x</th>\n",
       "      <th>approximation</th>\n",
       "      <th>I1_error</th>\n",
       "      <th>I2_error</th>\n",
       "      <th>error</th>\n",
       "    </tr>\n",
       "  </thead>\n",
       "  <tbody>\n",
       "    <tr>\n",
       "      <th>0</th>\n",
       "      <td>-5</td>\n",
       "      <td>0.110900</td>\n",
       "      <td>0.328809</td>\n",
       "      <td>0.764696</td>\n",
       "      <td>1.093505</td>\n",
       "    </tr>\n",
       "    <tr>\n",
       "      <th>1</th>\n",
       "      <td>-4</td>\n",
       "      <td>0.055288</td>\n",
       "      <td>0.487545</td>\n",
       "      <td>0.104915</td>\n",
       "      <td>0.592460</td>\n",
       "    </tr>\n",
       "    <tr>\n",
       "      <th>2</th>\n",
       "      <td>-3</td>\n",
       "      <td>0.055540</td>\n",
       "      <td>0.543579</td>\n",
       "      <td>2.475214</td>\n",
       "      <td>3.018793</td>\n",
       "    </tr>\n",
       "    <tr>\n",
       "      <th>3</th>\n",
       "      <td>-2</td>\n",
       "      <td>0.111207</td>\n",
       "      <td>0.323775</td>\n",
       "      <td>14.431096</td>\n",
       "      <td>14.754871</td>\n",
       "    </tr>\n",
       "    <tr>\n",
       "      <th>4</th>\n",
       "      <td>-1</td>\n",
       "      <td>0.277985</td>\n",
       "      <td>0.120910</td>\n",
       "      <td>1.797297</td>\n",
       "      <td>1.918207</td>\n",
       "    </tr>\n",
       "    <tr>\n",
       "      <th>5</th>\n",
       "      <td>0</td>\n",
       "      <td>0.718465</td>\n",
       "      <td>0.000000</td>\n",
       "      <td>22.235805</td>\n",
       "      <td>22.235805</td>\n",
       "    </tr>\n",
       "    <tr>\n",
       "      <th>6</th>\n",
       "      <td>1</td>\n",
       "      <td>0.890353</td>\n",
       "      <td>0.046591</td>\n",
       "      <td>1.797297</td>\n",
       "      <td>1.843888</td>\n",
       "    </tr>\n",
       "    <tr>\n",
       "      <th>7</th>\n",
       "      <td>2</td>\n",
       "      <td>0.951105</td>\n",
       "      <td>0.159058</td>\n",
       "      <td>14.431096</td>\n",
       "      <td>14.590154</td>\n",
       "    </tr>\n",
       "    <tr>\n",
       "      <th>8</th>\n",
       "      <td>3</td>\n",
       "      <td>0.964770</td>\n",
       "      <td>0.340454</td>\n",
       "      <td>2.475214</td>\n",
       "      <td>2.815668</td>\n",
       "    </tr>\n",
       "    <tr>\n",
       "      <th>9</th>\n",
       "      <td>4</td>\n",
       "      <td>0.947521</td>\n",
       "      <td>0.308189</td>\n",
       "      <td>0.104915</td>\n",
       "      <td>0.413104</td>\n",
       "    </tr>\n",
       "    <tr>\n",
       "      <th>10</th>\n",
       "      <td>5</td>\n",
       "      <td>0.885056</td>\n",
       "      <td>0.200582</td>\n",
       "      <td>0.764696</td>\n",
       "      <td>0.965278</td>\n",
       "    </tr>\n",
       "  </tbody>\n",
       "</table>\n",
       "</div>"
      ],
      "text/plain": [
       "    x  approximation  I1_error   I2_error      error\n",
       "0  -5       0.110900  0.328809   0.764696   1.093505\n",
       "1  -4       0.055288  0.487545   0.104915   0.592460\n",
       "2  -3       0.055540  0.543579   2.475214   3.018793\n",
       "3  -2       0.111207  0.323775  14.431096  14.754871\n",
       "4  -1       0.277985  0.120910   1.797297   1.918207\n",
       "5   0       0.718465  0.000000  22.235805  22.235805\n",
       "6   1       0.890353  0.046591   1.797297   1.843888\n",
       "7   2       0.951105  0.159058  14.431096  14.590154\n",
       "8   3       0.964770  0.340454   2.475214   2.815668\n",
       "9   4       0.947521  0.308189   0.104915   0.413104\n",
       "10  5       0.885056  0.200582   0.764696   0.965278"
      ]
     },
     "execution_count": 80,
     "metadata": {},
     "output_type": "execute_result"
    }
   ],
   "source": [
    "middf = pd.DataFrame({\n",
    "    'x': x_used,\n",
    "    'approximation': approximations,\n",
    "    'I1_error': np.array(errors)[:,0],\n",
    "    'I2_error': np.array(errors)[:,1],\n",
    "    'error': np.array(errors)[:,0] + np.array(errors)[:,1]\n",
    "})\n",
    "middf"
   ]
  },
  {
   "cell_type": "code",
   "execution_count": 81,
   "metadata": {},
   "outputs": [
    {
     "data": {
      "image/png": "[encoded data removed]",
      "text/plain": [
       "<Figure size 432x288 with 2 Axes>"
      ]
     },
     "metadata": {
      "needs_background": "light"
     },
     "output_type": "display_data"
    }
   ],
   "source": [
    "plot_results(middf)"
   ]
  },
  {
   "cell_type": "markdown",
   "metadata": {},
   "source": [
    "As expected in our hypotheis, the overall error is much larger when c is small."
   ]
  },
  {
   "cell_type": "markdown",
   "metadata": {},
   "source": [
    "### Trapezoid"
   ]
  },
  {
   "cell_type": "markdown",
   "metadata": {},
   "source": [
    "From above when plotting $\\psi$ to determine our bounds for x when c=1, we got\n",
    "that a good domain for that is $[-10, 10]$."
   ]
  },
  {
   "cell_type": "code",
   "execution_count": 135,
   "metadata": {},
   "outputs": [],
   "source": [
    "x_used, approximations, errors = solve(trapezoid, 1, np.arange(-10, 11), 1e-4)"
   ]
  },
  {
   "cell_type": "code",
   "execution_count": 136,
   "metadata": {},
   "outputs": [
    {
     "data": {
      "text/html": [
       "<div>\n",
       "<style scoped>\n",
       "    .dataframe tbody tr th:only-of-type {\n",
       "        vertical-align: middle;\n",
       "    }\n",
       "\n",
       "    .dataframe tbody tr th {\n",
       "        vertical-align: top;\n",
       "    }\n",
       "\n",
       "    .dataframe thead th {\n",
       "        text-align: right;\n",
       "    }\n",
       "</style>\n",
       "<table border=\"1\" class=\"dataframe\">\n",
       "  <thead>\n",
       "    <tr style=\"text-align: right;\">\n",
       "      <th></th>\n",
       "      <th>x</th>\n",
       "      <th>approximation</th>\n",
       "      <th>I1_error</th>\n",
       "      <th>I2_error</th>\n",
       "      <th>error</th>\n",
       "    </tr>\n",
       "  </thead>\n",
       "  <tbody>\n",
       "    <tr>\n",
       "      <th>0</th>\n",
       "      <td>-10</td>\n",
       "      <td>0.084669</td>\n",
       "      <td>0.056697</td>\n",
       "      <td>0.012355</td>\n",
       "      <td>0.069052</td>\n",
       "    </tr>\n",
       "    <tr>\n",
       "      <th>1</th>\n",
       "      <td>-9</td>\n",
       "      <td>0.071877</td>\n",
       "      <td>0.039220</td>\n",
       "      <td>0.029966</td>\n",
       "      <td>0.069186</td>\n",
       "    </tr>\n",
       "    <tr>\n",
       "      <th>2</th>\n",
       "      <td>-8</td>\n",
       "      <td>0.071824</td>\n",
       "      <td>0.043071</td>\n",
       "      <td>0.008100</td>\n",
       "      <td>0.051171</td>\n",
       "    </tr>\n",
       "    <tr>\n",
       "      <th>3</th>\n",
       "      <td>-7</td>\n",
       "      <td>0.050327</td>\n",
       "      <td>0.012930</td>\n",
       "      <td>0.009865</td>\n",
       "      <td>0.022796</td>\n",
       "    </tr>\n",
       "    <tr>\n",
       "      <th>4</th>\n",
       "      <td>-6</td>\n",
       "      <td>0.044907</td>\n",
       "      <td>0.005560</td>\n",
       "      <td>0.002323</td>\n",
       "      <td>0.007883</td>\n",
       "    </tr>\n",
       "    <tr>\n",
       "      <th>5</th>\n",
       "      <td>-5</td>\n",
       "      <td>0.049962</td>\n",
       "      <td>0.001793</td>\n",
       "      <td>0.021009</td>\n",
       "      <td>0.022802</td>\n",
       "    </tr>\n",
       "    <tr>\n",
       "      <th>6</th>\n",
       "      <td>-4</td>\n",
       "      <td>0.104579</td>\n",
       "      <td>0.055114</td>\n",
       "      <td>0.031747</td>\n",
       "      <td>0.086861</td>\n",
       "    </tr>\n",
       "    <tr>\n",
       "      <th>7</th>\n",
       "      <td>-3</td>\n",
       "      <td>0.139236</td>\n",
       "      <td>0.021236</td>\n",
       "      <td>0.021059</td>\n",
       "      <td>0.042296</td>\n",
       "    </tr>\n",
       "    <tr>\n",
       "      <th>8</th>\n",
       "      <td>-2</td>\n",
       "      <td>0.222844</td>\n",
       "      <td>0.009436</td>\n",
       "      <td>0.007551</td>\n",
       "      <td>0.016987</td>\n",
       "    </tr>\n",
       "    <tr>\n",
       "      <th>9</th>\n",
       "      <td>-1</td>\n",
       "      <td>0.396250</td>\n",
       "      <td>0.003799</td>\n",
       "      <td>0.081449</td>\n",
       "      <td>0.085249</td>\n",
       "    </tr>\n",
       "    <tr>\n",
       "      <th>10</th>\n",
       "      <td>0</td>\n",
       "      <td>0.808853</td>\n",
       "      <td>0.000000</td>\n",
       "      <td>0.858857</td>\n",
       "      <td>0.858857</td>\n",
       "    </tr>\n",
       "    <tr>\n",
       "      <th>11</th>\n",
       "      <td>1</td>\n",
       "      <td>0.939212</td>\n",
       "      <td>0.001345</td>\n",
       "      <td>0.081449</td>\n",
       "      <td>0.082794</td>\n",
       "    </tr>\n",
       "    <tr>\n",
       "      <th>12</th>\n",
       "      <td>2</td>\n",
       "      <td>0.970428</td>\n",
       "      <td>0.003923</td>\n",
       "      <td>0.007551</td>\n",
       "      <td>0.011475</td>\n",
       "    </tr>\n",
       "    <tr>\n",
       "      <th>13</th>\n",
       "      <td>3</td>\n",
       "      <td>0.969964</td>\n",
       "      <td>0.010981</td>\n",
       "      <td>0.021059</td>\n",
       "      <td>0.032040</td>\n",
       "    </tr>\n",
       "    <tr>\n",
       "      <th>14</th>\n",
       "      <td>4</td>\n",
       "      <td>0.955720</td>\n",
       "      <td>0.030953</td>\n",
       "      <td>0.031747</td>\n",
       "      <td>0.062700</td>\n",
       "    </tr>\n",
       "    <tr>\n",
       "      <th>15</th>\n",
       "      <td>5</td>\n",
       "      <td>0.982807</td>\n",
       "      <td>0.000966</td>\n",
       "      <td>0.021009</td>\n",
       "      <td>0.021975</td>\n",
       "    </tr>\n",
       "    <tr>\n",
       "      <th>16</th>\n",
       "      <td>6</td>\n",
       "      <td>0.973379</td>\n",
       "      <td>0.002878</td>\n",
       "      <td>0.002323</td>\n",
       "      <td>0.005201</td>\n",
       "    </tr>\n",
       "    <tr>\n",
       "      <th>17</th>\n",
       "      <td>7</td>\n",
       "      <td>0.959598</td>\n",
       "      <td>0.006426</td>\n",
       "      <td>0.009865</td>\n",
       "      <td>0.016292</td>\n",
       "    </tr>\n",
       "    <tr>\n",
       "      <th>18</th>\n",
       "      <td>8</td>\n",
       "      <td>0.933643</td>\n",
       "      <td>0.020917</td>\n",
       "      <td>0.008100</td>\n",
       "      <td>0.029017</td>\n",
       "    </tr>\n",
       "    <tr>\n",
       "      <th>19</th>\n",
       "      <td>9</td>\n",
       "      <td>0.930935</td>\n",
       "      <td>0.019958</td>\n",
       "      <td>0.029966</td>\n",
       "      <td>0.049924</td>\n",
       "    </tr>\n",
       "    <tr>\n",
       "      <th>20</th>\n",
       "      <td>10</td>\n",
       "      <td>0.916947</td>\n",
       "      <td>0.030682</td>\n",
       "      <td>0.012355</td>\n",
       "      <td>0.043037</td>\n",
       "    </tr>\n",
       "  </tbody>\n",
       "</table>\n",
       "</div>"
      ],
      "text/plain": [
       "     x  approximation  I1_error  I2_error     error\n",
       "0  -10       0.084669  0.056697  0.012355  0.069052\n",
       "1   -9       0.071877  0.039220  0.029966  0.069186\n",
       "2   -8       0.071824  0.043071  0.008100  0.051171\n",
       "3   -7       0.050327  0.012930  0.009865  0.022796\n",
       "4   -6       0.044907  0.005560  0.002323  0.007883\n",
       "5   -5       0.049962  0.001793  0.021009  0.022802\n",
       "6   -4       0.104579  0.055114  0.031747  0.086861\n",
       "7   -3       0.139236  0.021236  0.021059  0.042296\n",
       "8   -2       0.222844  0.009436  0.007551  0.016987\n",
       "9   -1       0.396250  0.003799  0.081449  0.085249\n",
       "10   0       0.808853  0.000000  0.858857  0.858857\n",
       "11   1       0.939212  0.001345  0.081449  0.082794\n",
       "12   2       0.970428  0.003923  0.007551  0.011475\n",
       "13   3       0.969964  0.010981  0.021059  0.032040\n",
       "14   4       0.955720  0.030953  0.031747  0.062700\n",
       "15   5       0.982807  0.000966  0.021009  0.021975\n",
       "16   6       0.973379  0.002878  0.002323  0.005201\n",
       "17   7       0.959598  0.006426  0.009865  0.016292\n",
       "18   8       0.933643  0.020917  0.008100  0.029017\n",
       "19   9       0.930935  0.019958  0.029966  0.049924\n",
       "20  10       0.916947  0.030682  0.012355  0.043037"
      ]
     },
     "execution_count": 136,
     "metadata": {},
     "output_type": "execute_result"
    }
   ],
   "source": [
    "trapdf = pd.DataFrame({\n",
    "    'x': x_used,\n",
    "    'approximation': approximations,\n",
    "    'I1_error': np.array(errors)[:,0],\n",
    "    'I2_error': np.array(errors)[:,1],\n",
    "    'error': np.array(errors)[:,0] + np.array(errors)[:,1]\n",
    "})\n",
    "trapdf"
   ]
  },
  {
   "cell_type": "code",
   "execution_count": 112,
   "metadata": {},
   "outputs": [
    {
     "data": {
      "image/png": "[encoded data removed]",
      "text/plain": [
       "<Figure size 432x288 with 2 Axes>"
      ]
     },
     "metadata": {
      "needs_background": "light"
     },
     "output_type": "display_data"
    }
   ],
   "source": [
    "plot_results(trapdf)"
   ]
  },
  {
   "cell_type": "markdown",
   "metadata": {},
   "source": [
    "From the above we see that we get similar results to the midpoint rule, however\n",
    "one big thing to notice is that the runtime for trapezoid was much faster. So as\n",
    "of now, trapezoid is our best method."
   ]
  },
  {
   "cell_type": "markdown",
   "metadata": {},
   "source": [
    "Let's also look at small value of c using the trapezoid method. Also from above,\n",
    "we found that for c=.1, we can restrict our domain to $[-5, 5]$."
   ]
  },
  {
   "cell_type": "code",
   "execution_count": 113,
   "metadata": {},
   "outputs": [],
   "source": [
    "x_used, approximations, errors = solve(trapezoid, .1, np.arange(-5, 6), 1e-4)"
   ]
  },
  {
   "cell_type": "code",
   "execution_count": 114,
   "metadata": {},
   "outputs": [
    {
     "data": {
      "text/html": [
       "<div>\n",
       "<style scoped>\n",
       "    .dataframe tbody tr th:only-of-type {\n",
       "        vertical-align: middle;\n",
       "    }\n",
       "\n",
       "    .dataframe tbody tr th {\n",
       "        vertical-align: top;\n",
       "    }\n",
       "\n",
       "    .dataframe thead th {\n",
       "        text-align: right;\n",
       "    }\n",
       "</style>\n",
       "<table border=\"1\" class=\"dataframe\">\n",
       "  <thead>\n",
       "    <tr style=\"text-align: right;\">\n",
       "      <th></th>\n",
       "      <th>x</th>\n",
       "      <th>approximation</th>\n",
       "      <th>I1_error</th>\n",
       "      <th>I2_error</th>\n",
       "      <th>error</th>\n",
       "    </tr>\n",
       "  </thead>\n",
       "  <tbody>\n",
       "    <tr>\n",
       "      <th>0</th>\n",
       "      <td>-5</td>\n",
       "      <td>0.124045</td>\n",
       "      <td>0.657617</td>\n",
       "      <td>1.529393</td>\n",
       "      <td>2.187010</td>\n",
       "    </tr>\n",
       "    <tr>\n",
       "      <th>1</th>\n",
       "      <td>-4</td>\n",
       "      <td>0.132906</td>\n",
       "      <td>0.975090</td>\n",
       "      <td>0.209830</td>\n",
       "      <td>1.184920</td>\n",
       "    </tr>\n",
       "    <tr>\n",
       "      <th>2</th>\n",
       "      <td>-3</td>\n",
       "      <td>0.146080</td>\n",
       "      <td>1.087157</td>\n",
       "      <td>4.950428</td>\n",
       "      <td>6.037586</td>\n",
       "    </tr>\n",
       "    <tr>\n",
       "      <th>3</th>\n",
       "      <td>-2</td>\n",
       "      <td>0.183371</td>\n",
       "      <td>0.647551</td>\n",
       "      <td>28.862192</td>\n",
       "      <td>29.509742</td>\n",
       "    </tr>\n",
       "    <tr>\n",
       "      <th>4</th>\n",
       "      <td>-1</td>\n",
       "      <td>0.312933</td>\n",
       "      <td>0.241819</td>\n",
       "      <td>3.594594</td>\n",
       "      <td>3.836414</td>\n",
       "    </tr>\n",
       "    <tr>\n",
       "      <th>5</th>\n",
       "      <td>0</td>\n",
       "      <td>0.750816</td>\n",
       "      <td>0.000000</td>\n",
       "      <td>44.471611</td>\n",
       "      <td>44.471611</td>\n",
       "    </tr>\n",
       "    <tr>\n",
       "      <th>6</th>\n",
       "      <td>1</td>\n",
       "      <td>0.857452</td>\n",
       "      <td>0.093182</td>\n",
       "      <td>3.594594</td>\n",
       "      <td>3.687777</td>\n",
       "    </tr>\n",
       "    <tr>\n",
       "      <th>7</th>\n",
       "      <td>2</td>\n",
       "      <td>0.891664</td>\n",
       "      <td>0.318116</td>\n",
       "      <td>28.862192</td>\n",
       "      <td>29.180307</td>\n",
       "    </tr>\n",
       "    <tr>\n",
       "      <th>8</th>\n",
       "      <td>3</td>\n",
       "      <td>0.879390</td>\n",
       "      <td>0.680908</td>\n",
       "      <td>4.950428</td>\n",
       "      <td>5.631336</td>\n",
       "    </tr>\n",
       "    <tr>\n",
       "      <th>9</th>\n",
       "      <td>4</td>\n",
       "      <td>0.876479</td>\n",
       "      <td>0.616379</td>\n",
       "      <td>0.209830</td>\n",
       "      <td>0.826209</td>\n",
       "    </tr>\n",
       "    <tr>\n",
       "      <th>10</th>\n",
       "      <td>5</td>\n",
       "      <td>0.879681</td>\n",
       "      <td>0.401163</td>\n",
       "      <td>1.529393</td>\n",
       "      <td>1.930556</td>\n",
       "    </tr>\n",
       "  </tbody>\n",
       "</table>\n",
       "</div>"
      ],
      "text/plain": [
       "    x  approximation  I1_error   I2_error      error\n",
       "0  -5       0.124045  0.657617   1.529393   2.187010\n",
       "1  -4       0.132906  0.975090   0.209830   1.184920\n",
       "2  -3       0.146080  1.087157   4.950428   6.037586\n",
       "3  -2       0.183371  0.647551  28.862192  29.509742\n",
       "4  -1       0.312933  0.241819   3.594594   3.836414\n",
       "5   0       0.750816  0.000000  44.471611  44.471611\n",
       "6   1       0.857452  0.093182   3.594594   3.687777\n",
       "7   2       0.891664  0.318116  28.862192  29.180307\n",
       "8   3       0.879390  0.680908   4.950428   5.631336\n",
       "9   4       0.876479  0.616379   0.209830   0.826209\n",
       "10  5       0.879681  0.401163   1.529393   1.930556"
      ]
     },
     "execution_count": 114,
     "metadata": {},
     "output_type": "execute_result"
    }
   ],
   "source": [
    "trapdf = pd.DataFrame({\n",
    "    'x': x_used,\n",
    "    'approximation': approximations,\n",
    "    'I1_error': np.array(errors)[:,0],\n",
    "    'I2_error': np.array(errors)[:,1],\n",
    "    'error': np.array(errors)[:,0] + np.array(errors)[:,1]\n",
    "})\n",
    "trapdf"
   ]
  },
  {
   "cell_type": "code",
   "execution_count": 115,
   "metadata": {},
   "outputs": [
    {
     "data": {
      "image/png": "[encoded data removed]",
      "text/plain": [
       "<Figure size 432x288 with 2 Axes>"
      ]
     },
     "metadata": {
      "needs_background": "light"
     },
     "output_type": "display_data"
    }
   ],
   "source": [
    "plot_results(trapdf)"
   ]
  },
  {
   "cell_type": "markdown",
   "metadata": {},
   "source": [
    "Again, our results are very similar to the midpoint rule and like before, the\n",
    "error is higher with lower values of c."
   ]
  },
  {
   "cell_type": "markdown",
   "metadata": {},
   "source": [
    "### Simpson"
   ]
  },
  {
   "cell_type": "code",
   "execution_count": 137,
   "metadata": {},
   "outputs": [],
   "source": [
    "x_used, approximations, errors = solve(simpson, 1, np.arange(-10, 11), 1e-4)"
   ]
  },
  {
   "cell_type": "code",
   "execution_count": 138,
   "metadata": {},
   "outputs": [
    {
     "data": {
      "text/html": [
       "<div>\n",
       "<style scoped>\n",
       "    .dataframe tbody tr th:only-of-type {\n",
       "        vertical-align: middle;\n",
       "    }\n",
       "\n",
       "    .dataframe tbody tr th {\n",
       "        vertical-align: top;\n",
       "    }\n",
       "\n",
       "    .dataframe thead th {\n",
       "        text-align: right;\n",
       "    }\n",
       "</style>\n",
       "<table border=\"1\" class=\"dataframe\">\n",
       "  <thead>\n",
       "    <tr style=\"text-align: right;\">\n",
       "      <th></th>\n",
       "      <th>x</th>\n",
       "      <th>approximation</th>\n",
       "      <th>I1_error</th>\n",
       "      <th>I2_error</th>\n",
       "      <th>error</th>\n",
       "    </tr>\n",
       "  </thead>\n",
       "  <tbody>\n",
       "    <tr>\n",
       "      <th>0</th>\n",
       "      <td>-10</td>\n",
       "      <td>0.071087</td>\n",
       "      <td>2.207068e-05</td>\n",
       "      <td>0.000015</td>\n",
       "      <td>0.000037</td>\n",
       "    </tr>\n",
       "    <tr>\n",
       "      <th>1</th>\n",
       "      <td>-9</td>\n",
       "      <td>0.059938</td>\n",
       "      <td>1.225890e-05</td>\n",
       "      <td>0.000070</td>\n",
       "      <td>0.000082</td>\n",
       "    </tr>\n",
       "    <tr>\n",
       "      <th>2</th>\n",
       "      <td>-8</td>\n",
       "      <td>0.060886</td>\n",
       "      <td>1.533649e-05</td>\n",
       "      <td>0.000009</td>\n",
       "      <td>0.000025</td>\n",
       "    </tr>\n",
       "    <tr>\n",
       "      <th>3</th>\n",
       "      <td>-7</td>\n",
       "      <td>0.043346</td>\n",
       "      <td>2.229216e-06</td>\n",
       "      <td>0.000022</td>\n",
       "      <td>0.000024</td>\n",
       "    </tr>\n",
       "    <tr>\n",
       "      <th>4</th>\n",
       "      <td>-6</td>\n",
       "      <td>0.040365</td>\n",
       "      <td>5.918605e-07</td>\n",
       "      <td>0.000003</td>\n",
       "      <td>0.000004</td>\n",
       "    </tr>\n",
       "    <tr>\n",
       "      <th>5</th>\n",
       "      <td>-5</td>\n",
       "      <td>0.046860</td>\n",
       "      <td>1.004550e-07</td>\n",
       "      <td>0.000092</td>\n",
       "      <td>0.000092</td>\n",
       "    </tr>\n",
       "    <tr>\n",
       "      <th>6</th>\n",
       "      <td>-4</td>\n",
       "      <td>0.097172</td>\n",
       "      <td>3.752050e-05</td>\n",
       "      <td>0.000120</td>\n",
       "      <td>0.000158</td>\n",
       "    </tr>\n",
       "    <tr>\n",
       "      <th>7</th>\n",
       "      <td>-3</td>\n",
       "      <td>0.134677</td>\n",
       "      <td>8.982611e-06</td>\n",
       "      <td>0.000057</td>\n",
       "      <td>0.000066</td>\n",
       "    </tr>\n",
       "    <tr>\n",
       "      <th>8</th>\n",
       "      <td>-2</td>\n",
       "      <td>0.220053</td>\n",
       "      <td>2.815576e-06</td>\n",
       "      <td>0.000013</td>\n",
       "      <td>0.000016</td>\n",
       "    </tr>\n",
       "    <tr>\n",
       "      <th>9</th>\n",
       "      <td>-1</td>\n",
       "      <td>0.394431</td>\n",
       "      <td>1.068670e-06</td>\n",
       "      <td>0.001052</td>\n",
       "      <td>0.001053</td>\n",
       "    </tr>\n",
       "    <tr>\n",
       "      <th>10</th>\n",
       "      <td>0</td>\n",
       "      <td>0.805194</td>\n",
       "      <td>0.000000e+00</td>\n",
       "      <td>0.065757</td>\n",
       "      <td>0.065757</td>\n",
       "    </tr>\n",
       "    <tr>\n",
       "      <th>11</th>\n",
       "      <td>1</td>\n",
       "      <td>0.940147</td>\n",
       "      <td>1.788276e-06</td>\n",
       "      <td>0.001052</td>\n",
       "      <td>0.001054</td>\n",
       "    </tr>\n",
       "    <tr>\n",
       "      <th>12</th>\n",
       "      <td>2</td>\n",
       "      <td>0.973136</td>\n",
       "      <td>4.625339e-06</td>\n",
       "      <td>0.000013</td>\n",
       "      <td>0.000018</td>\n",
       "    </tr>\n",
       "    <tr>\n",
       "      <th>13</th>\n",
       "      <td>3</td>\n",
       "      <td>0.974256</td>\n",
       "      <td>1.317526e-05</td>\n",
       "      <td>0.000057</td>\n",
       "      <td>0.000070</td>\n",
       "    </tr>\n",
       "    <tr>\n",
       "      <th>14</th>\n",
       "      <td>4</td>\n",
       "      <td>0.962490</td>\n",
       "      <td>5.254917e-05</td>\n",
       "      <td>0.000120</td>\n",
       "      <td>0.000173</td>\n",
       "    </tr>\n",
       "    <tr>\n",
       "      <th>15</th>\n",
       "      <td>5</td>\n",
       "      <td>0.985015</td>\n",
       "      <td>1.464418e-07</td>\n",
       "      <td>0.000092</td>\n",
       "      <td>0.000092</td>\n",
       "    </tr>\n",
       "    <tr>\n",
       "      <th>16</th>\n",
       "      <td>6</td>\n",
       "      <td>0.977730</td>\n",
       "      <td>8.747936e-07</td>\n",
       "      <td>0.000003</td>\n",
       "      <td>0.000004</td>\n",
       "    </tr>\n",
       "    <tr>\n",
       "      <th>17</th>\n",
       "      <td>7</td>\n",
       "      <td>0.965860</td>\n",
       "      <td>3.325025e-06</td>\n",
       "      <td>0.000022</td>\n",
       "      <td>0.000025</td>\n",
       "    </tr>\n",
       "    <tr>\n",
       "      <th>18</th>\n",
       "      <td>8</td>\n",
       "      <td>0.944109</td>\n",
       "      <td>2.286970e-05</td>\n",
       "      <td>0.000009</td>\n",
       "      <td>0.000032</td>\n",
       "    </tr>\n",
       "    <tr>\n",
       "      <th>19</th>\n",
       "      <td>9</td>\n",
       "      <td>0.941188</td>\n",
       "      <td>1.790276e-05</td>\n",
       "      <td>0.000070</td>\n",
       "      <td>0.000088</td>\n",
       "    </tr>\n",
       "    <tr>\n",
       "      <th>20</th>\n",
       "      <td>10</td>\n",
       "      <td>0.929678</td>\n",
       "      <td>3.093356e-05</td>\n",
       "      <td>0.000015</td>\n",
       "      <td>0.000046</td>\n",
       "    </tr>\n",
       "  </tbody>\n",
       "</table>\n",
       "</div>"
      ],
      "text/plain": [
       "     x  approximation      I1_error  I2_error     error\n",
       "0  -10       0.071087  2.207068e-05  0.000015  0.000037\n",
       "1   -9       0.059938  1.225890e-05  0.000070  0.000082\n",
       "2   -8       0.060886  1.533649e-05  0.000009  0.000025\n",
       "3   -7       0.043346  2.229216e-06  0.000022  0.000024\n",
       "4   -6       0.040365  5.918605e-07  0.000003  0.000004\n",
       "5   -5       0.046860  1.004550e-07  0.000092  0.000092\n",
       "6   -4       0.097172  3.752050e-05  0.000120  0.000158\n",
       "7   -3       0.134677  8.982611e-06  0.000057  0.000066\n",
       "8   -2       0.220053  2.815576e-06  0.000013  0.000016\n",
       "9   -1       0.394431  1.068670e-06  0.001052  0.001053\n",
       "10   0       0.805194  0.000000e+00  0.065757  0.065757\n",
       "11   1       0.940147  1.788276e-06  0.001052  0.001054\n",
       "12   2       0.973136  4.625339e-06  0.000013  0.000018\n",
       "13   3       0.974256  1.317526e-05  0.000057  0.000070\n",
       "14   4       0.962490  5.254917e-05  0.000120  0.000173\n",
       "15   5       0.985015  1.464418e-07  0.000092  0.000092\n",
       "16   6       0.977730  8.747936e-07  0.000003  0.000004\n",
       "17   7       0.965860  3.325025e-06  0.000022  0.000025\n",
       "18   8       0.944109  2.286970e-05  0.000009  0.000032\n",
       "19   9       0.941188  1.790276e-05  0.000070  0.000088\n",
       "20  10       0.929678  3.093356e-05  0.000015  0.000046"
      ]
     },
     "execution_count": 138,
     "metadata": {},
     "output_type": "execute_result"
    }
   ],
   "source": [
    "simpdf = pd.DataFrame({\n",
    "    'x': x_used,\n",
    "    'approximation': approximations,\n",
    "    'I1_error': np.array(errors)[:,0],\n",
    "    'I2_error': np.array(errors)[:,1],\n",
    "    'error': np.array(errors)[:,0] + np.array(errors)[:,1]\n",
    "})\n",
    "simpdf"
   ]
  },
  {
   "cell_type": "code",
   "execution_count": 118,
   "metadata": {},
   "outputs": [
    {
     "data": {
      "image/png": "[encoded data removed]",
      "text/plain": [
       "<Figure size 432x288 with 2 Axes>"
      ]
     },
     "metadata": {
      "needs_background": "light"
     },
     "output_type": "display_data"
    }
   ],
   "source": [
    "plot_results(simpdf)"
   ]
  },
  {
   "cell_type": "markdown",
   "metadata": {},
   "source": [
    "Observing the table as a result of Simpson's method, we can see that the error\n",
    "is very small compared to the midpoint and trapezoid methods. Although this \n",
    "result took longer, in my opinion, the little extra time it took to compute the \n",
    "results are worth it for the substantial decrease in the error."
   ]
  },
  {
   "cell_type": "markdown",
   "metadata": {},
   "source": [
    "Again, let's see what happens with Simpson's rule for small values of c."
   ]
  },
  {
   "cell_type": "code",
   "execution_count": 121,
   "metadata": {},
   "outputs": [],
   "source": [
    "x_used, approximations, errors = solve(simpson, .1, np.arange(-5, 6), 1e-4)"
   ]
  },
  {
   "cell_type": "code",
   "execution_count": 122,
   "metadata": {},
   "outputs": [
    {
     "data": {
      "text/html": [
       "<div>\n",
       "<style scoped>\n",
       "    .dataframe tbody tr th:only-of-type {\n",
       "        vertical-align: middle;\n",
       "    }\n",
       "\n",
       "    .dataframe tbody tr th {\n",
       "        vertical-align: top;\n",
       "    }\n",
       "\n",
       "    .dataframe thead th {\n",
       "        text-align: right;\n",
       "    }\n",
       "</style>\n",
       "<table border=\"1\" class=\"dataframe\">\n",
       "  <thead>\n",
       "    <tr style=\"text-align: right;\">\n",
       "      <th></th>\n",
       "      <th>x</th>\n",
       "      <th>approximation</th>\n",
       "      <th>I1_error</th>\n",
       "      <th>I2_error</th>\n",
       "      <th>error</th>\n",
       "    </tr>\n",
       "  </thead>\n",
       "  <tbody>\n",
       "    <tr>\n",
       "      <th>0</th>\n",
       "      <td>-5</td>\n",
       "      <td>0.104898</td>\n",
       "      <td>0.002243</td>\n",
       "      <td>0.105158</td>\n",
       "      <td>0.107400</td>\n",
       "    </tr>\n",
       "    <tr>\n",
       "      <th>1</th>\n",
       "      <td>-4</td>\n",
       "      <td>0.115466</td>\n",
       "      <td>0.005443</td>\n",
       "      <td>0.002680</td>\n",
       "      <td>0.008123</td>\n",
       "    </tr>\n",
       "    <tr>\n",
       "      <th>2</th>\n",
       "      <td>-3</td>\n",
       "      <td>0.128607</td>\n",
       "      <td>0.008478</td>\n",
       "      <td>1.087238</td>\n",
       "      <td>1.095716</td>\n",
       "    </tr>\n",
       "    <tr>\n",
       "      <th>3</th>\n",
       "      <td>-2</td>\n",
       "      <td>0.169100</td>\n",
       "      <td>0.004121</td>\n",
       "      <td>11.961265</td>\n",
       "      <td>11.965386</td>\n",
       "    </tr>\n",
       "    <tr>\n",
       "      <th>4</th>\n",
       "      <td>-1</td>\n",
       "      <td>0.306256</td>\n",
       "      <td>0.001347</td>\n",
       "      <td>0.627216</td>\n",
       "      <td>0.628564</td>\n",
       "    </tr>\n",
       "    <tr>\n",
       "      <th>5</th>\n",
       "      <td>0</td>\n",
       "      <td>0.743345</td>\n",
       "      <td>0.000000</td>\n",
       "      <td>1178.595415</td>\n",
       "      <td>1178.595415</td>\n",
       "    </tr>\n",
       "    <tr>\n",
       "      <th>6</th>\n",
       "      <td>1</td>\n",
       "      <td>0.862209</td>\n",
       "      <td>0.001951</td>\n",
       "      <td>0.627216</td>\n",
       "      <td>0.629167</td>\n",
       "    </tr>\n",
       "    <tr>\n",
       "      <th>7</th>\n",
       "      <td>2</td>\n",
       "      <td>0.899665</td>\n",
       "      <td>0.005694</td>\n",
       "      <td>11.961265</td>\n",
       "      <td>11.966959</td>\n",
       "    </tr>\n",
       "    <tr>\n",
       "      <th>8</th>\n",
       "      <td>3</td>\n",
       "      <td>0.893028</td>\n",
       "      <td>0.010164</td>\n",
       "      <td>1.087238</td>\n",
       "      <td>1.097402</td>\n",
       "    </tr>\n",
       "    <tr>\n",
       "      <th>9</th>\n",
       "      <td>4</td>\n",
       "      <td>0.893580</td>\n",
       "      <td>0.006797</td>\n",
       "      <td>0.002680</td>\n",
       "      <td>0.009477</td>\n",
       "    </tr>\n",
       "    <tr>\n",
       "      <th>10</th>\n",
       "      <td>5</td>\n",
       "      <td>0.895654</td>\n",
       "      <td>0.002954</td>\n",
       "      <td>0.105158</td>\n",
       "      <td>0.108112</td>\n",
       "    </tr>\n",
       "  </tbody>\n",
       "</table>\n",
       "</div>"
      ],
      "text/plain": [
       "    x  approximation  I1_error     I2_error        error\n",
       "0  -5       0.104898  0.002243     0.105158     0.107400\n",
       "1  -4       0.115466  0.005443     0.002680     0.008123\n",
       "2  -3       0.128607  0.008478     1.087238     1.095716\n",
       "3  -2       0.169100  0.004121    11.961265    11.965386\n",
       "4  -1       0.306256  0.001347     0.627216     0.628564\n",
       "5   0       0.743345  0.000000  1178.595415  1178.595415\n",
       "6   1       0.862209  0.001951     0.627216     0.629167\n",
       "7   2       0.899665  0.005694    11.961265    11.966959\n",
       "8   3       0.893028  0.010164     1.087238     1.097402\n",
       "9   4       0.893580  0.006797     0.002680     0.009477\n",
       "10  5       0.895654  0.002954     0.105158     0.108112"
      ]
     },
     "execution_count": 122,
     "metadata": {},
     "output_type": "execute_result"
    }
   ],
   "source": [
    "simpdf = pd.DataFrame({\n",
    "    'x': x_used,\n",
    "    'approximation': approximations,\n",
    "    'I1_error': np.array(errors)[:,0],\n",
    "    'I2_error': np.array(errors)[:,1],\n",
    "    'error': np.array(errors)[:,0] + np.array(errors)[:,1]\n",
    "})\n",
    "simpdf"
   ]
  },
  {
   "cell_type": "code",
   "execution_count": 124,
   "metadata": {},
   "outputs": [
    {
     "data": {
      "image/png": "[encoded data removed]",
      "text/plain": [
       "<Figure size 432x288 with 2 Axes>"
      ]
     },
     "metadata": {
      "needs_background": "light"
     },
     "output_type": "display_data"
    }
   ],
   "source": [
    "plot_results(simpdf)"
   ]
  },
  {
   "cell_type": "markdown",
   "metadata": {},
   "source": [
    "For small values of c, it appears that Simpson's rule is not that much better,\n",
    "and even worse than the midpoint and trapezoidal rules."
   ]
  },
  {
   "cell_type": "markdown",
   "metadata": {},
   "source": [
    "# Results"
   ]
  },
  {
   "cell_type": "markdown",
   "metadata": {},
   "source": [
    "Let us first compare our approximated results to our plot eailer of $\\psi$."
   ]
  },
  {
   "cell_type": "code",
   "execution_count": 142,
   "metadata": {},
   "outputs": [
    {
     "data": {
      "image/png": "[encoded data removed]",
      "text/plain": [
       "<Figure size 432x288 with 2 Axes>"
      ]
     },
     "metadata": {
      "needs_background": "light"
     },
     "output_type": "display_data"
    }
   ],
   "source": [
    "_, ax = plt.subplots(1, 2)\n",
    "ax[0].plot(middf.x, middf.approximation, label='midpoint')\n",
    "ax[0].plot(trapdf.x, trapdf.approximation, label='trapezoid')\n",
    "ax[0].plot(simpdf.x, simpdf.approximation, label='simpson')\n",
    "ax[0].set_xlabel('x')\n",
    "ax[0].set_ylabel(r'$\\psi$')\n",
    "ax[0].legend()\n",
    "\n",
    "psi_ys = []\n",
    "for x in np.arange(-10, 11):\n",
    "    a = quad(I1, 0, np.inf, args=(1, x))\n",
    "    b = quad(I2, 0, np.inf, args=(1, x))\n",
    "    y = 1/2 + (1/np.pi * a[0]) + (1/np.pi * b[0])\n",
    "    psi_ys.append(y)\n",
    "ax[1].plot(np.arange(-10, 11), psi_ys)\n",
    "ax[1].set_xlabel('x')\n",
    "ax[1].set_ylabel(r'$\\psi$')\n",
    "\n",
    "plt.subplots_adjust(wspace=.5)\n",
    "plt.show()"
   ]
  },
  {
   "cell_type": "markdown",
   "metadata": {},
   "source": [
    "From the compairson above, we can see that midpoint does horribly for this problem.\n",
    "Going forward in our results, we will not consider the midpoint rule for deciding\n",
    "which method is best for approximating $\\psi$."
   ]
  },
  {
   "cell_type": "markdown",
   "metadata": {},
   "source": [
    "Let's see how long it takes to run each of our methods from $[-10, 10]$."
   ]
  },
  {
   "cell_type": "code",
   "execution_count": 131,
   "metadata": {},
   "outputs": [
    {
     "name": "stdout",
     "output_type": "stream",
     "text": [
      "3.69 s ± 71.3 ms per loop (mean ± std. dev. of 7 runs, 1 loop each)\n"
     ]
    }
   ],
   "source": [
    "# trapezoid\n",
    "%timeit solve(trapezoid, 1, np.arange(-10, 11), 1e-4)"
   ]
  },
  {
   "cell_type": "code",
   "execution_count": 132,
   "metadata": {},
   "outputs": [
    {
     "name": "stdout",
     "output_type": "stream",
     "text": [
      "7.72 s ± 1.09 s per loop (mean ± std. dev. of 7 runs, 1 loop each)\n"
     ]
    }
   ],
   "source": [
    "# simpson\n",
    "%timeit solve(simpson, 1, np.arange(-10, 11), 1e-4)"
   ]
  },
  {
   "cell_type": "markdown",
   "metadata": {},
   "source": [
    "From our results it is clear that trapezoid is the fastest and simpson being \n",
    "about 2x as long computation time as trapezoid. This falls inline with the \n",
    "introductory hypothesis as the trapezoid is much faster to solve.  \n",
    "Let's also test the other part of our hypothesis: simpson will have less error\n",
    "than trapezoid."
   ]
  },
  {
   "cell_type": "code",
   "execution_count": 147,
   "metadata": {},
   "outputs": [
    {
     "name": "stdout",
     "output_type": "stream",
     "text": [
      "Trapezoid error mean: 0.08036162977475625\n",
      "Simpson error mean: 0.003281651394950919\n"
     ]
    }
   ],
   "source": [
    "print('Trapezoid error mean:', trapdf.error.mean())\n",
    "print('Simpson error mean:', simpdf.error.mean())"
   ]
  },
  {
   "cell_type": "markdown",
   "metadata": {},
   "source": [
    "From the results above, we see that, on average, Simpson has a 184.306% error \n",
    "difference from trapezoid. It is also important to note the percent difference\n",
    "from the time inspection was 70.6398%.\n"
   ]
  },
  {
   "cell_type": "markdown",
   "metadata": {},
   "source": [
    "We can also inspect the statistics of both dataframes."
   ]
  },
  {
   "cell_type": "code",
   "execution_count": 151,
   "metadata": {},
   "outputs": [
    {
     "data": {
      "text/html": [
       "<div>\n",
       "<style scoped>\n",
       "    .dataframe tbody tr th:only-of-type {\n",
       "        vertical-align: middle;\n",
       "    }\n",
       "\n",
       "    .dataframe tbody tr th {\n",
       "        vertical-align: top;\n",
       "    }\n",
       "\n",
       "    .dataframe thead th {\n",
       "        text-align: right;\n",
       "    }\n",
       "</style>\n",
       "<table border=\"1\" class=\"dataframe\">\n",
       "  <thead>\n",
       "    <tr style=\"text-align: right;\">\n",
       "      <th></th>\n",
       "      <th>x</th>\n",
       "      <th>approximation</th>\n",
       "      <th>I1_error</th>\n",
       "      <th>I2_error</th>\n",
       "      <th>error</th>\n",
       "    </tr>\n",
       "  </thead>\n",
       "  <tbody>\n",
       "    <tr>\n",
       "      <th>count</th>\n",
       "      <td>21.000000</td>\n",
       "      <td>21.000000</td>\n",
       "      <td>21.000000</td>\n",
       "      <td>21.000000</td>\n",
       "      <td>21.000000</td>\n",
       "    </tr>\n",
       "    <tr>\n",
       "      <th>mean</th>\n",
       "      <td>0.000000</td>\n",
       "      <td>0.551331</td>\n",
       "      <td>0.017995</td>\n",
       "      <td>0.062367</td>\n",
       "      <td>0.080362</td>\n",
       "    </tr>\n",
       "    <tr>\n",
       "      <th>std</th>\n",
       "      <td>6.204837</td>\n",
       "      <td>0.425670</td>\n",
       "      <td>0.018062</td>\n",
       "      <td>0.183788</td>\n",
       "      <td>0.180290</td>\n",
       "    </tr>\n",
       "    <tr>\n",
       "      <th>min</th>\n",
       "      <td>-10.000000</td>\n",
       "      <td>0.044907</td>\n",
       "      <td>0.000000</td>\n",
       "      <td>0.002323</td>\n",
       "      <td>0.005201</td>\n",
       "    </tr>\n",
       "    <tr>\n",
       "      <th>25%</th>\n",
       "      <td>-5.000000</td>\n",
       "      <td>0.084669</td>\n",
       "      <td>0.003799</td>\n",
       "      <td>0.008100</td>\n",
       "      <td>0.021975</td>\n",
       "    </tr>\n",
       "    <tr>\n",
       "      <th>50%</th>\n",
       "      <td>0.000000</td>\n",
       "      <td>0.808853</td>\n",
       "      <td>0.010981</td>\n",
       "      <td>0.021009</td>\n",
       "      <td>0.042296</td>\n",
       "    </tr>\n",
       "    <tr>\n",
       "      <th>75%</th>\n",
       "      <td>5.000000</td>\n",
       "      <td>0.955720</td>\n",
       "      <td>0.030682</td>\n",
       "      <td>0.029966</td>\n",
       "      <td>0.069052</td>\n",
       "    </tr>\n",
       "    <tr>\n",
       "      <th>max</th>\n",
       "      <td>10.000000</td>\n",
       "      <td>0.982807</td>\n",
       "      <td>0.056697</td>\n",
       "      <td>0.858857</td>\n",
       "      <td>0.858857</td>\n",
       "    </tr>\n",
       "  </tbody>\n",
       "</table>\n",
       "</div>"
      ],
      "text/plain": [
       "               x  approximation   I1_error   I2_error      error\n",
       "count  21.000000      21.000000  21.000000  21.000000  21.000000\n",
       "mean    0.000000       0.551331   0.017995   0.062367   0.080362\n",
       "std     6.204837       0.425670   0.018062   0.183788   0.180290\n",
       "min   -10.000000       0.044907   0.000000   0.002323   0.005201\n",
       "25%    -5.000000       0.084669   0.003799   0.008100   0.021975\n",
       "50%     0.000000       0.808853   0.010981   0.021009   0.042296\n",
       "75%     5.000000       0.955720   0.030682   0.029966   0.069052\n",
       "max    10.000000       0.982807   0.056697   0.858857   0.858857"
      ]
     },
     "execution_count": 151,
     "metadata": {},
     "output_type": "execute_result"
    }
   ],
   "source": [
    "trapdf.describe()"
   ]
  },
  {
   "cell_type": "code",
   "execution_count": 152,
   "metadata": {},
   "outputs": [
    {
     "data": {
      "text/html": [
       "<div>\n",
       "<style scoped>\n",
       "    .dataframe tbody tr th:only-of-type {\n",
       "        vertical-align: middle;\n",
       "    }\n",
       "\n",
       "    .dataframe tbody tr th {\n",
       "        vertical-align: top;\n",
       "    }\n",
       "\n",
       "    .dataframe thead th {\n",
       "        text-align: right;\n",
       "    }\n",
       "</style>\n",
       "<table border=\"1\" class=\"dataframe\">\n",
       "  <thead>\n",
       "    <tr style=\"text-align: right;\">\n",
       "      <th></th>\n",
       "      <th>x</th>\n",
       "      <th>approximation</th>\n",
       "      <th>I1_error</th>\n",
       "      <th>I2_error</th>\n",
       "      <th>error</th>\n",
       "    </tr>\n",
       "  </thead>\n",
       "  <tbody>\n",
       "    <tr>\n",
       "      <th>count</th>\n",
       "      <td>21.000000</td>\n",
       "      <td>21.000000</td>\n",
       "      <td>21.000000</td>\n",
       "      <td>21.000000</td>\n",
       "      <td>21.000000</td>\n",
       "    </tr>\n",
       "    <tr>\n",
       "      <th>mean</th>\n",
       "      <td>0.000000</td>\n",
       "      <td>0.550839</td>\n",
       "      <td>0.000012</td>\n",
       "      <td>0.003270</td>\n",
       "      <td>0.003282</td>\n",
       "    </tr>\n",
       "    <tr>\n",
       "      <th>std</th>\n",
       "      <td>6.204837</td>\n",
       "      <td>0.432035</td>\n",
       "      <td>0.000014</td>\n",
       "      <td>0.014321</td>\n",
       "      <td>0.014318</td>\n",
       "    </tr>\n",
       "    <tr>\n",
       "      <th>min</th>\n",
       "      <td>-10.000000</td>\n",
       "      <td>0.040365</td>\n",
       "      <td>0.000000</td>\n",
       "      <td>0.000003</td>\n",
       "      <td>0.000004</td>\n",
       "    </tr>\n",
       "    <tr>\n",
       "      <th>25%</th>\n",
       "      <td>-5.000000</td>\n",
       "      <td>0.071087</td>\n",
       "      <td>0.000001</td>\n",
       "      <td>0.000013</td>\n",
       "      <td>0.000025</td>\n",
       "    </tr>\n",
       "    <tr>\n",
       "      <th>50%</th>\n",
       "      <td>0.000000</td>\n",
       "      <td>0.805194</td>\n",
       "      <td>0.000005</td>\n",
       "      <td>0.000057</td>\n",
       "      <td>0.000066</td>\n",
       "    </tr>\n",
       "    <tr>\n",
       "      <th>75%</th>\n",
       "      <td>5.000000</td>\n",
       "      <td>0.962490</td>\n",
       "      <td>0.000018</td>\n",
       "      <td>0.000092</td>\n",
       "      <td>0.000092</td>\n",
       "    </tr>\n",
       "    <tr>\n",
       "      <th>max</th>\n",
       "      <td>10.000000</td>\n",
       "      <td>0.985015</td>\n",
       "      <td>0.000053</td>\n",
       "      <td>0.065757</td>\n",
       "      <td>0.065757</td>\n",
       "    </tr>\n",
       "  </tbody>\n",
       "</table>\n",
       "</div>"
      ],
      "text/plain": [
       "               x  approximation   I1_error   I2_error      error\n",
       "count  21.000000      21.000000  21.000000  21.000000  21.000000\n",
       "mean    0.000000       0.550839   0.000012   0.003270   0.003282\n",
       "std     6.204837       0.432035   0.000014   0.014321   0.014318\n",
       "min   -10.000000       0.040365   0.000000   0.000003   0.000004\n",
       "25%    -5.000000       0.071087   0.000001   0.000013   0.000025\n",
       "50%     0.000000       0.805194   0.000005   0.000057   0.000066\n",
       "75%     5.000000       0.962490   0.000018   0.000092   0.000092\n",
       "max    10.000000       0.985015   0.000053   0.065757   0.065757"
      ]
     },
     "execution_count": 152,
     "metadata": {},
     "output_type": "execute_result"
    }
   ],
   "source": [
    "simpdf.describe()"
   ]
  },
  {
   "cell_type": "markdown",
   "metadata": {},
   "source": [
    "# Conclusion"
   ]
  },
  {
   "cell_type": "markdown",
   "metadata": {},
   "source": []
  }
 ],
 "metadata": {
  "interpreter": {
   "hash": "0ae98b58dfc9c4764165ee0d2c6054cd2f0cc02b5cabb426508c0590eb3e01aa"
  },
  "kernelspec": {
   "display_name": "Python 3.9.6 64-bit ('.venv')",
   "name": "python3"
  },
  "language_info": {
   "codemirror_mode": {
    "name": "ipython",
    "version": 3
   },
   "file_extension": ".py",
   "mimetype": "text/x-python",
   "name": "python",
   "nbconvert_exporter": "python",
   "pygments_lexer": "ipython3",
   "version": "3.9.6"
  },
  "orig_nbformat": 4
 },
 "nbformat": 4,
 "nbformat_minor": 2
}
